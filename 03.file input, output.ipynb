{
 "cells": [
  {
   "cell_type": "markdown",
   "id": "9e2e8c09",
   "metadata": {},
   "source": [
    "# 파일"
   ]
  },
  {
   "cell_type": "markdown",
   "id": "6f42b789",
   "metadata": {},
   "source": [
    "- 상대경로 : ./ -> 현재 폴더\n",
    "- 절대경로"
   ]
  },
  {
   "cell_type": "code",
   "execution_count": 22,
   "id": "d7f893cb",
   "metadata": {},
   "outputs": [],
   "source": [
    "import requests\n",
    "from bs4 import BeautifulSoup\n",
    "\n",
    "# 크롬에서 접속이라는 header 작성\n",
    "head = {\"User-Agent\": \"Mozilla/5.0 (Windows NT 10.0; Win64; x64) AppleWebKit/537.36 (KHTML, like Gecko) Chrome/100.0.4896.60 Safari/537.36\"}\n",
    "\n",
    "# 멜론에 get 요청 진행\n",
    "r = requests.get(\"https://www.melon.com/song/detail.htm?songId=34845949\", headers=head)\n",
    "\n",
    "# BeutifulSoup 객체로 변환\n",
    "bs = BeautifulSoup(r.text)\n",
    "\n",
    "# br 태그 대체,\n",
    "text = BeautifulSoup(str(bs.find(\"div\", id=\"d_video_summary\")).replace(\"<br/>\", \"\\n\")).text\n",
    "\n",
    "# 양쪽 여백 제거\n",
    "text = text.strip()"
   ]
  },
  {
   "cell_type": "code",
   "execution_count": 23,
   "id": "858f7658",
   "metadata": {},
   "outputs": [],
   "source": [
    "# 첫번째 : 파일 경로, 두번재 => 쓸지, 읽을지, 세번째(option) -> 인코딩\n",
    "f = open('./bigbang.txt',\"w\")"
   ]
  },
  {
   "cell_type": "code",
   "execution_count": 24,
   "id": "14c09568",
   "metadata": {},
   "outputs": [
    {
     "data": {
      "text/plain": [
       "775"
      ]
     },
     "execution_count": 24,
     "metadata": {},
     "output_type": "execute_result"
    }
   ],
   "source": [
    "f.write(text)"
   ]
  },
  {
   "cell_type": "code",
   "execution_count": 25,
   "id": "c682c518",
   "metadata": {},
   "outputs": [],
   "source": [
    "f.close()"
   ]
  },
  {
   "cell_type": "code",
   "execution_count": 38,
   "id": "2a05ab2d",
   "metadata": {},
   "outputs": [],
   "source": [
    "f = open('./bigang.txt',\"w\", encoding='utf-8')\n",
    "f.write(text)\n",
    "f.close()"
   ]
  },
  {
   "cell_type": "markdown",
   "id": "7eed3084",
   "metadata": {},
   "source": [
    "## 읽기"
   ]
  },
  {
   "cell_type": "code",
   "execution_count": 39,
   "id": "bb03c36c",
   "metadata": {},
   "outputs": [],
   "source": [
    "f1 = open(\"./bigbang.txt\", 'r')"
   ]
  },
  {
   "cell_type": "code",
   "execution_count": 40,
   "id": "d7fd5b1c",
   "metadata": {},
   "outputs": [
    {
     "data": {
      "text/plain": [
       "'이듬해 질 녘 꽃 피는 봄 한여름 밤의 꿈\\n가을 타 겨울 내릴 눈 1년 네 번 또다시 봄\\n \\n정들었던 내 젊은 날 이제는 안녕\\n아름답던 우리의 봄 여름 가을 겨울\\n \\n“Four season with no reason.”\\n비 갠 뒤에 비애(悲哀) 대신 a happy end\\n비스듬히 씩 비웃듯 칠색 무늬의 무지개\\n철없이 철 지나 철들지 못해(still)\\n철부지에 철 그른지 오래 Marchin’ 비발디\\n차이코프스키 오늘의 사계를 맞이해\\n마침내 마치 넷이 못내\\n \\nBoy 저 하늘만 바라보고서 \\n사계절 잘 지내고 있어 Good-bye \\n떠난 사람 또 나타난 사람\\n머리 위 저세상 \\n난 떠나 영감의 amazon\\n지난 밤의 트라우마 다 묻고 \\n목숨 바쳐 달려올 새 출발 하는 왕복선 \\n변할래 전보다는 더욱더\\n좋은 사람 더욱더 \\n더 나은 사람 더욱더\\n아침 이슬을 맞고 내 안에 분노 과거에 묻고\\nFor Life\\n\\n울었던 웃었던 소년과 소녀가 그리워 나\\n찬란했던 사랑했던 그 시절만 자꾸 기억나\\n \\n계절은 날이 갈수록 속절없이 흘러\\n붉게 물들이고 파랗게 멍들어 가슴을 훑고\\n\\n언젠가 다시 올 그날 그때를 위하여 (그대를 위하여)\\n아름다울 우리의 봄 여름 가을 겨울\\n\\nLa la la la la la la la la la la \\nLa la la la la la la la la la la \\nLa la la la la la la la la la la \\nLa la la la la la la la la la la \\n\\n이듬해 질 녘 꽃 피는 봄 한여름 밤의 꿈\\n가을 타 겨울 내린 눈 봄 여름 가을 겨울'"
      ]
     },
     "execution_count": 40,
     "metadata": {},
     "output_type": "execute_result"
    }
   ],
   "source": [
    "f1.read()"
   ]
  },
  {
   "cell_type": "code",
   "execution_count": 41,
   "id": "fc87e7ef",
   "metadata": {},
   "outputs": [
    {
     "data": {
      "text/plain": [
       "''"
      ]
     },
     "execution_count": 41,
     "metadata": {},
     "output_type": "execute_result"
    }
   ],
   "source": [
    "f1.read()"
   ]
  },
  {
   "cell_type": "code",
   "execution_count": 42,
   "id": "c078ed86",
   "metadata": {},
   "outputs": [
    {
     "data": {
      "text/plain": [
       "1187"
      ]
     },
     "execution_count": 42,
     "metadata": {},
     "output_type": "execute_result"
    }
   ],
   "source": [
    "# 현재 포인터의 위치\n",
    "f1.tell()"
   ]
  },
  {
   "cell_type": "code",
   "execution_count": 43,
   "id": "359687ad",
   "metadata": {},
   "outputs": [
    {
     "data": {
      "text/plain": [
       "0"
      ]
     },
     "execution_count": 43,
     "metadata": {},
     "output_type": "execute_result"
    }
   ],
   "source": [
    "# 포인터의 위치 0으로 변경\n",
    "f1.seek(0)"
   ]
  },
  {
   "cell_type": "code",
   "execution_count": 44,
   "id": "7da19f7d",
   "metadata": {},
   "outputs": [
    {
     "data": {
      "text/plain": [
       "0"
      ]
     },
     "execution_count": 44,
     "metadata": {},
     "output_type": "execute_result"
    }
   ],
   "source": [
    "# 현재 포인터의 위치\n",
    "f1.tell()"
   ]
  },
  {
   "cell_type": "code",
   "execution_count": 45,
   "id": "2d864ae7",
   "metadata": {
    "scrolled": true
   },
   "outputs": [
    {
     "data": {
      "text/plain": [
       "'이듬해 질 녘 꽃 피는 봄 한여름 밤의 꿈\\n가을 타 겨울 내릴 눈 1년 네 번 또다시 봄\\n \\n정들었던 내 젊은 날 이제는 안녕\\n아름답던 우리의 봄 여름 가을 겨울\\n \\n“Four season with no reason.”\\n비 갠 뒤에 비애(悲哀) 대신 a happy end\\n비스듬히 씩 비웃듯 칠색 무늬의 무지개\\n철없이 철 지나 철들지 못해(still)\\n철부지에 철 그른지 오래 Marchin’ 비발디\\n차이코프스키 오늘의 사계를 맞이해\\n마침내 마치 넷이 못내\\n \\nBoy 저 하늘만 바라보고서 \\n사계절 잘 지내고 있어 Good-bye \\n떠난 사람 또 나타난 사람\\n머리 위 저세상 \\n난 떠나 영감의 amazon\\n지난 밤의 트라우마 다 묻고 \\n목숨 바쳐 달려올 새 출발 하는 왕복선 \\n변할래 전보다는 더욱더\\n좋은 사람 더욱더 \\n더 나은 사람 더욱더\\n아침 이슬을 맞고 내 안에 분노 과거에 묻고\\nFor Life\\n\\n울었던 웃었던 소년과 소녀가 그리워 나\\n찬란했던 사랑했던 그 시절만 자꾸 기억나\\n \\n계절은 날이 갈수록 속절없이 흘러\\n붉게 물들이고 파랗게 멍들어 가슴을 훑고\\n\\n언젠가 다시 올 그날 그때를 위하여 (그대를 위하여)\\n아름다울 우리의 봄 여름 가을 겨울\\n\\nLa la la la la la la la la la la \\nLa la la la la la la la la la la \\nLa la la la la la la la la la la \\nLa la la la la la la la la la la \\n\\n이듬해 질 녘 꽃 피는 봄 한여름 밤의 꿈\\n가을 타 겨울 내린 눈 봄 여름 가을 겨울'"
      ]
     },
     "execution_count": 45,
     "metadata": {},
     "output_type": "execute_result"
    }
   ],
   "source": [
    "# 다시 read 실행 \n",
    "f1.read()"
   ]
  },
  {
   "cell_type": "markdown",
   "id": "09225854",
   "metadata": {},
   "source": [
    "## os"
   ]
  },
  {
   "cell_type": "code",
   "execution_count": 46,
   "id": "66c14333",
   "metadata": {},
   "outputs": [],
   "source": [
    "import os"
   ]
  },
  {
   "cell_type": "code",
   "execution_count": 48,
   "id": "94e7cf47",
   "metadata": {},
   "outputs": [
    {
     "data": {
      "text/plain": [
       "'C:\\\\20220103_lab\\\\14.python'"
      ]
     },
     "execution_count": 48,
     "metadata": {},
     "output_type": "execute_result"
    }
   ],
   "source": [
    "#현재 작업하고있는 디렉토리 위치\n",
    "os.getcwd()"
   ]
  },
  {
   "cell_type": "code",
   "execution_count": 49,
   "id": "459f82a6",
   "metadata": {},
   "outputs": [],
   "source": [
    "# 디렉토리 변경 \n",
    "#os.chdir(변경할 디렉토리)"
   ]
  },
  {
   "cell_type": "code",
   "execution_count": 51,
   "id": "75e26be1",
   "metadata": {},
   "outputs": [
    {
     "data": {
      "text/plain": [
       "False"
      ]
     },
     "execution_count": 51,
     "metadata": {},
     "output_type": "execute_result"
    }
   ],
   "source": [
    "# 현재경로의 폴더 존재 여부 확인\n",
    "os.path.isdir(\"./melon\")"
   ]
  },
  {
   "cell_type": "code",
   "execution_count": 53,
   "id": "c426dbfd",
   "metadata": {},
   "outputs": [],
   "source": [
    "if os.path.isdir(\"./melon\") == False:\n",
    "    os.mkdir(\"./melon\")"
   ]
  },
  {
   "cell_type": "markdown",
   "id": "db0a3226",
   "metadata": {},
   "source": [
    "## Beautiful Soup"
   ]
  },
  {
   "cell_type": "code",
   "execution_count": 54,
   "id": "cbf7f03b",
   "metadata": {},
   "outputs": [],
   "source": [
    "from bs4 import BeautifulSoup"
   ]
  },
  {
   "cell_type": "code",
   "execution_count": 55,
   "id": "9ff2ff89",
   "metadata": {},
   "outputs": [],
   "source": [
    "html_doc = \"\"\"\n",
    "<html><head><title>The Dormouse's story</title></head>\n",
    "<body>\n",
    "<p class=\"title\"><b>The Dormouse's story</b></p>\n",
    "\n",
    "<p class=\"story\">Once upon a time there were three little sisters; and their names were\n",
    "<a href=\"http://example.com/elsie\" class=\"sister\" id=\"link1\">Elsie</a>,\n",
    "<a href=\"http://example.com/lacie\" class=\"sister\" id=\"link2\">Lacie</a> and\n",
    "<a href=\"http://example.com/tillie\" class=\"sister\" id=\"link3\">Tillie</a>;\n",
    "and they lived at the bottom of a well.</p>\n",
    "\n",
    "<p class=\"story\">...</p>\n",
    "\"\"\""
   ]
  },
  {
   "cell_type": "code",
   "execution_count": 58,
   "id": "56cb5cbe",
   "metadata": {},
   "outputs": [],
   "source": [
    "#BeautifulSoup(html_doc, 'lxml')\n",
    "bs = BeautifulSoup(html_doc, 'html.parser')"
   ]
  },
  {
   "cell_type": "code",
   "execution_count": 60,
   "id": "ae529268",
   "metadata": {},
   "outputs": [
    {
     "data": {
      "text/plain": [
       "<a class=\"sister\" href=\"http://example.com/elsie\" id=\"link1\">Elsie</a>"
      ]
     },
     "execution_count": 60,
     "metadata": {},
     "output_type": "execute_result"
    }
   ],
   "source": [
    "# a 태그 한개 찾기\n",
    "bs.find(\"a\")"
   ]
  },
  {
   "cell_type": "code",
   "execution_count": 62,
   "id": "15cc0dfa",
   "metadata": {},
   "outputs": [
    {
     "data": {
      "text/plain": [
       "'Elsie'"
      ]
     },
     "execution_count": 62,
     "metadata": {},
     "output_type": "execute_result"
    }
   ],
   "source": [
    "# 모든 a 태그 찾기\n",
    "bs.findAll(\"a\")[0].text"
   ]
  },
  {
   "cell_type": "code",
   "execution_count": 63,
   "id": "0b8a6701",
   "metadata": {},
   "outputs": [
    {
     "data": {
      "text/plain": [
       "'http://example.com/elsie'"
      ]
     },
     "execution_count": 63,
     "metadata": {},
     "output_type": "execute_result"
    }
   ],
   "source": [
    "# 주소출력\n",
    "bs.findAll(\"a\")[0]['href']"
   ]
  },
  {
   "cell_type": "code",
   "execution_count": 65,
   "id": "a0276c4c",
   "metadata": {},
   "outputs": [
    {
     "data": {
      "text/plain": [
       "<a class=\"sister\" href=\"http://example.com/lacie\" id=\"link2\">Lacie</a>"
      ]
     },
     "execution_count": 65,
     "metadata": {},
     "output_type": "execute_result"
    }
   ],
   "source": [
    "# id 값으로 데이터 가져옴\n",
    "bs.find(\"a\", id=\"link2\")"
   ]
  },
  {
   "cell_type": "code",
   "execution_count": 67,
   "id": "d566466a",
   "metadata": {},
   "outputs": [
    {
     "data": {
      "text/plain": [
       "[<a class=\"sister\" href=\"http://example.com/lacie\" id=\"link2\">Lacie</a>]"
      ]
     },
     "execution_count": 67,
     "metadata": {},
     "output_type": "execute_result"
    }
   ],
   "source": [
    "# bs.findAll(\"a\", id=\"link2\") # 리스트 형태로 출력됨\n",
    "bs.findAll(\"a\", id=\"link2\")[0]"
   ]
  },
  {
   "cell_type": "code",
   "execution_count": 64,
   "id": "75d2281f",
   "metadata": {},
   "outputs": [
    {
     "data": {
      "text/plain": [
       "[<a class=\"sister\" href=\"http://example.com/elsie\" id=\"link1\">Elsie</a>,\n",
       " <a class=\"sister\" href=\"http://example.com/lacie\" id=\"link2\">Lacie</a>,\n",
       " <a class=\"sister\" href=\"http://example.com/tillie\" id=\"link3\">Tillie</a>]"
      ]
     },
     "execution_count": 64,
     "metadata": {},
     "output_type": "execute_result"
    }
   ],
   "source": [
    "bs.findAll(class_='sister')"
   ]
  },
  {
   "cell_type": "markdown",
   "id": "9c923372",
   "metadata": {},
   "source": [
    "# 멜론 음원차트 크롤링"
   ]
  },
  {
   "cell_type": "code",
   "execution_count": 228,
   "id": "1a62db52",
   "metadata": {},
   "outputs": [],
   "source": [
    "melon=\"https://www.melon.com/chart/index.htm\"\n",
    "target = \"https://www.melon.com/song/detail.htm?songId={}\"\n",
    "head = {\"User-Agent\": \"Mozilla/5.0 (Windows NT 10.0; Win64; x64) AppleWebKit/537.36 (KHTML, like Gecko) Chrome/100.0.4896.60 Safari/537.36\"}\n",
    "\n",
    "r = requests.get(melon, headers=head)\n",
    "bs = BeautifulSoup(r.text, 'html.parser')"
   ]
  },
  {
   "cell_type": "code",
   "execution_count": 229,
   "id": "8054d948",
   "metadata": {},
   "outputs": [
    {
     "data": {
      "text/plain": [
       "101"
      ]
     },
     "execution_count": 229,
     "metadata": {},
     "output_type": "execute_result"
    }
   ],
   "source": [
    "len(bs.find(\"table\").findAll(\"tr\"))"
   ]
  },
  {
   "cell_type": "code",
   "execution_count": 230,
   "id": "4ac99e36",
   "metadata": {},
   "outputs": [
    {
     "data": {
      "text/plain": [
       "'4845949'"
      ]
     },
     "execution_count": 230,
     "metadata": {},
     "output_type": "execute_result"
    }
   ],
   "source": [
    "melon_100 = bs.find(\"table\").findAll(\"tr\")\n",
    "melon_100[1].find(\"div\", class_=\"wrap_song_info\").find(\"a\")[\"href\"].split(\",\")[-1][1:-2]"
   ]
  },
  {
   "cell_type": "code",
   "execution_count": 231,
   "id": "7a041a00",
   "metadata": {
    "scrolled": true
   },
   "outputs": [
    {
     "name": "stdout",
     "output_type": "stream",
     "text": [
      "34845949 - 봄여름가을겨울 (Still Life) - BIGBANG (빅뱅)\n",
      "34754292 - TOMBOY - (여자)아이들\n",
      "34772475 - Feel My Rhythm - Red Velvet (레드벨벳)\n",
      "34752700 - GANADARA (Feat. 아이유) - 박재범\n",
      "34657844 - 사랑인가 봐 - 멜로망스\n",
      "34061322 - 사랑은 늘 도망가 - 임영웅\n",
      "34626109 - INVU - 태연 (TAEYEON)\n",
      "34431086 - 취중고백 - 김민석 (멜로망스)\n",
      "34701627 - 듣고 싶을까 - MSG워너비(M.O.M)\n",
      "34808759 - 버퍼링 (Glitch Mode) - NCT DREAM\n",
      "34668619 - RUN2U - STAYC(스테이씨)\n",
      "34599917 - 언제나 사랑해 - 케이시 (Kassy)\n",
      "34538515 - SMILEY (Feat. BIBI) - YENA (최예나)\n",
      "33496587 - 다정히 내 이름을 부르면 - 경서예지\n",
      "34349913 - ELEVEN - IVE (아이브)\n",
      "34701816 - 존재만으로 - 원슈타인\n",
      "33480898 - 신호등 - 이무진\n",
      "32508053 - 이제 나만 믿어요 - 임영웅\n",
      "34256568 - 회전목마 (Feat. Zion.T, 원슈타인) (Prod. Slom) - sokodomo\n",
      "33658563 - STAY - The Kid LAROI\n",
      "34481680 - 드라마 - 아이유\n",
      "34494149 - Step Back - GOT the beat\n",
      "34752959 - 사랑인걸 - 한동근\n",
      "34701996 - 어제처럼 - 폴킴\n",
      "33514925 - 다시 사랑한다면 (김필 Ver.) - 임영웅\n",
      "34632789 - 너, 너 (N번째 연애 X 휘인 (Whee In)) - 휘인 (Whee In)\n",
      "34101563 - strawberry moon - 아이유\n",
      "34298499 - 리무진 (Feat. MINO) (Prod. GRAY) - BE'O (비오)\n",
      "34754299 - MY BAG - (여자)아이들\n",
      "33652821 - 그대라는 사치 - 임영웅\n",
      "33487342 - Next Level - aespa\n",
      "33808429 - abcdefu - GAYLE\n",
      "33337651 - 별빛 같은 나의 사랑아 - 임영웅\n",
      "34535898 - 호랑수월가 - 탑현\n",
      "34726097 - 내 생에 아름다운 - 이예준\n",
      "33606505 - 잊었니 - 임영웅\n",
      "34360855 - 눈이 오잖아(Feat.헤이즈) - 이무진\n",
      "33655994 - Weekend - 태연 (TAEYEON)\n",
      "34632361 - Starlight - 태일 (TAEIL)\n",
      "33036660 - HERO - 임영웅\n",
      "34808767 - 북극성 (Never Goodbye) - NCT DREAM\n",
      "33978183 - 너를 생각해 - 주시크 (Joosiq)\n",
      "33372781 - 라일락 - 아이유\n",
      "32872978 - Dynamite - 방탄소년단\n",
      "34398735 - Counting Stars (Feat. Beenzino) - BE'O (비오)\n",
      "33630420 - 끝사랑 - 임영웅\n",
      "33507137 - Butter - 방탄소년단\n",
      "34808386 - Real Love - 오마이걸 (OH MY GIRL)\n",
      "34436674 - Dreams Come True - aespa\n",
      "33625988 - 바라만 본다 - MSG워너비(M.O.M)\n",
      "34041584 - Savage - aespa\n",
      "34787226 - 내가 아니라도 - 주호\n",
      "33666269 - Permission to Dance - 방탄소년단\n",
      "33599821 - Bk Love - 임영웅\n",
      "32698101 - OHAYO MY NIGHT - 디핵 (D-Hack)\n",
      "34752772 - With - 김태리\n",
      "30244931 - 봄날 - 방탄소년단\n",
      "4276080 - 스물다섯, 스물하나 - 자우림\n",
      "34808760 - Arcade - NCT DREAM\n",
      "34773088 - DAYDREAM - 하이라이트 (Highlight)\n",
      "33239419 - Celebrity - 아이유\n",
      "34662306 - 아주, 천천히 - 비비 (BIBI)\n",
      "34298496 - 만남은 쉽고 이별은 어려워 (Feat. Leellamarz) (Prod. TOIL) - 베이식 (Basick)\n",
      "32183386 - Blueming - 아이유\n",
      "33976677 - 찰나가 영원이 될 때 (The Eternal Moment) - 마크툽 (MAKTUB)\n",
      "3414749 - 내 손을 잡아 - 아이유\n",
      "33359725 - 사이렌 Remix (Feat. UNEDUCATED KID, Paul Blanco) - 호미들\n",
      "33623210 - Bad Habits - Ed Sheeran\n",
      "34774431 - 벚꽃이 피면 우리 그만 헤어져 - 벤\n",
      "34808761 - 너를 위한 단어 (It’s Yours) - NCT DREAM\n",
      "34373632 - 서랍 - 10CM\n",
      "34481682 - 겨울잠 - 아이유\n",
      "33061995 - 밤하늘의 별을(2020) - 경서\n",
      "30962526 - 모든 날, 모든 순간 (Every day, Every Moment) - 폴킴\n",
      "34808766 - 미니카 (Drive) - NCT DREAM\n",
      "33464805 - Dun Dun Dance - 오마이걸 (OH MY GIRL)\n",
      "33998510 - My Universe - Coldplay\n",
      "33359309 - Off My Face - Justin Bieber\n",
      "34540831 - Can't Control Myself - 태연 (TAEYEON)\n",
      "33868791 - 고백 - 멜로망스\n",
      "33503722 - 헤픈 우연 - 헤이즈 (Heize)\n",
      "4446485 - 너의 모든 순간 - 성시경\n",
      "33448767 - 문득 - BE'O (비오)\n",
      "34808768 - Rewind - NCT DREAM\n",
      "33725775 - 낙하 (with 아이유) - AKMU (악뮤)\n",
      "3753304 - 벚꽃 엔딩 - 버스커 버스커\n",
      "31254010 - 계단말고 엘리베이터 - 임영웅\n",
      "34748459 - 꽃 (With 김민석 of 멜로망스) - 박봄 (Park Bom)\n",
      "4579468 - 봄 사랑 벚꽃 말고 - HIGH4 (하이포)\n",
      "32061975 - 어떻게 이별까지 사랑하겠어, 널 사랑하는 거지 - AKMU (악뮤)\n",
      "34495462 - 언덕나무 - 이승윤\n",
      "34461065 - Christmas Tree - V\n",
      "3699046 - Stronger (What Doesn't Kill You) - Kelly Clarkson\n",
      "34808762 - 잘 자 (Teddy Bear) - NCT DREAM\n",
      "34840251 - 그녀를 찾아주세요 - 윤민수(바이브)\n",
      "34808764 - Saturday Drip - NCT DREAM\n",
      "34808765 - Better Than Gold (지금) - NCT DREAM\n",
      "30287019 - 롤린 (Rollin') - 브레이브걸스\n",
      "34808758 - Fire Alarm - NCT DREAM\n",
      "34817660 - 아무래도 난 - 주시크 (Joosiq)\n"
     ]
    }
   ],
   "source": [
    "for x in melon_100[1:]:\n",
    "#     print(x.find(\"div\", class_=\"wrap_song_info\").find(\"a\")['href'].split(\",\"), end=\"----->\")\n",
    "    print(x.find(\"div\", class_=\"wrap_song_info\").find(\"a\")[\"href\"].split(\",\")[-1][0:-2], end=\" - \")\n",
    "    print(x.find(\"div\", class_=\"wrap_song_info\").find(\"a\")[\"title\"].replace(\"재생\",\"\").strip(),end=\" - \")\n",
    "    print(x.find(\"div\", class_=\"ellipsis rank02\").find(\"a\").text)"
   ]
  },
  {
   "cell_type": "markdown",
   "id": "5dc218e5",
   "metadata": {},
   "source": [
    "## 과제\n",
    "- 사용자 함수로 작성 \n",
    "- id 값을 매개변수로 설정\n",
    "-  멜론 폴더에 노래 가사 저장 -> 가수_ 노래제목.txt\n",
    "- 19금 노래는 예외처리"
   ]
  },
  {
   "cell_type": "code",
   "execution_count": 247,
   "id": "0134fcb1",
   "metadata": {},
   "outputs": [],
   "source": [
    "def extract_lyrics(id_):\n",
    "    try:\n",
    "        # id별 노래 상세 페이지\n",
    "        target = \"https://www.melon.com/song/detail.htm?songId={}\"\n",
    "        head = {\"User-Agent\": \"Mozilla/5.0 (Windows NT 10.0; Win64; x64) AppleWebKit/537.36 (KHTML, like Gecko) Chrome/100.0.4896.60 Safari/537.36\"}\n",
    "        \n",
    "        r = requests.get(target.format(id_), headers=head)\n",
    "        bs = BeautifulSoup(r.text, 'html.parser')\n",
    "        \n",
    "        #가수\n",
    "        artist = bs.find(\"div\", class_=\"artist\").text.strip()\n",
    "        \n",
    "        #제목\n",
    "        title = bs.find(\"div\", class_=\"song_name\").text.replace(\"곡명\",\"\").strip()\n",
    "        \n",
    "        #가사\n",
    "        lyrics = BeautifulSoup(str(bs.find(\"div\", class_=\"lyric\")).replace(\"<br/>\", \"\\n\")).text.strip() \n",
    "        \n",
    "        #폴더가 없을 경우 폴더 생성\n",
    "        if os.path.isdir(\"./melon\") == False:\n",
    "            os.mkdir(\"./melon\")\n",
    "        \n",
    "        # 가수_노래제목.txt\n",
    "        f = open('./melon/{}_{}.txt'.format(artist,title),\"w\", encoding='utf-8')\n",
    "        f.write(lyrics)\n",
    "        f.close()\n",
    "        \n",
    "        print(\"파일 생성이 완료되었습니다.\")\n",
    "        \n",
    "    # 19금 노래 예외처리    \n",
    "    except OSError:\n",
    "        print(\"로그인이 필요합니다.\")\n",
    "        \n",
    "    except Exception as e:\n",
    "        print(e)"
   ]
  },
  {
   "cell_type": "code",
   "execution_count": 250,
   "id": "da3fee0d",
   "metadata": {},
   "outputs": [
    {
     "name": "stdout",
     "output_type": "stream",
     "text": [
      "파일 생성이 완료되었습니다.\n"
     ]
    }
   ],
   "source": [
    "extract_lyrics(33503722)"
   ]
  },
  {
   "cell_type": "code",
   "execution_count": null,
   "id": "d6664d66",
   "metadata": {},
   "outputs": [],
   "source": []
  }
 ],
 "metadata": {
  "kernelspec": {
   "display_name": "Python 3 (ipykernel)",
   "language": "python",
   "name": "python3"
  },
  "language_info": {
   "codemirror_mode": {
    "name": "ipython",
    "version": 3
   },
   "file_extension": ".py",
   "mimetype": "text/x-python",
   "name": "python",
   "nbconvert_exporter": "python",
   "pygments_lexer": "ipython3",
   "version": "3.9.7"
  }
 },
 "nbformat": 4,
 "nbformat_minor": 5
}
