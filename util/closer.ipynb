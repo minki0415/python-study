{
 "cells": [
  {
   "cell_type": "markdown",
   "id": "e1c8e5c0",
   "metadata": {},
   "source": [
    "# 클로저"
   ]
  },
  {
   "cell_type": "markdown",
   "id": "bd1b4216",
   "metadata": {},
   "source": [
    "- 함수에 관한 정보를 간직하고 있는 데이터\n",
    "- 내부함수가 외부함수의 지역변수를 사용하며, 외부함수의 지역변수를 사용하는 내부함수가 소멸될 때 까지 외부함수의 정보가 소멸되지 않는 특성"
   ]
  },
  {
   "cell_type": "code",
   "execution_count": 4,
   "id": "7acfb558",
   "metadata": {},
   "outputs": [],
   "source": [
    "def outer():\n",
    "    msg = \"Hi\"\n",
    "    \n",
    "    def inner():\n",
    "        print(msg)\n",
    "    \n",
    "    return inner"
   ]
  },
  {
   "cell_type": "code",
   "execution_count": 5,
   "id": "69415a6c",
   "metadata": {},
   "outputs": [],
   "source": [
    "res = outer()"
   ]
  },
  {
   "cell_type": "code",
   "execution_count": 7,
   "id": "90f8b44c",
   "metadata": {},
   "outputs": [
    {
     "name": "stdout",
     "output_type": "stream",
     "text": [
      "Hi\n"
     ]
    }
   ],
   "source": [
    "res()"
   ]
  },
  {
   "cell_type": "markdown",
   "id": "cdf8e614",
   "metadata": {},
   "source": [
    "## 대용량 파일 열기\n",
    "- with 구문과 open을 활용하여 가능"
   ]
  },
  {
   "cell_type": "code",
   "execution_count": null,
   "id": "1b443d4e",
   "metadata": {},
   "outputs": [],
   "source": [
    "with open(\"./all_csv_files.csv\", \"r\") as f:\n",
    "    for idx, x in enumerate(f):\n",
    "        pass\n"
   ]
  }
 ],
 "metadata": {
  "kernelspec": {
   "display_name": "Python 3 (ipykernel)",
   "language": "python",
   "name": "python3"
  },
  "language_info": {
   "codemirror_mode": {
    "name": "ipython",
    "version": 3
   },
   "file_extension": ".py",
   "mimetype": "text/x-python",
   "name": "python",
   "nbconvert_exporter": "python",
   "pygments_lexer": "ipython3",
   "version": "3.9.7"
  }
 },
 "nbformat": 4,
 "nbformat_minor": 5
}
