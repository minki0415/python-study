{
 "cells": [
  {
   "cell_type": "code",
   "execution_count": 1,
   "id": "bb2509fe-1027-47fa-a609-5c1913ab27a1",
   "metadata": {},
   "outputs": [],
   "source": [
    "import requests\n",
    "from bs4 import BeautifulSoup"
   ]
  },
  {
   "cell_type": "code",
   "execution_count": 2,
   "id": "0e083e69-3a5a-4741-9257-8317a08a71a9",
   "metadata": {},
   "outputs": [],
   "source": [
    "url = \"http://gs25.gsretail.com/gscvs/ko/store-services/locations\""
   ]
  },
  {
   "cell_type": "code",
   "execution_count": 3,
   "id": "e9d63edb-ae7b-498e-b7c1-18b4fbb74c20",
   "metadata": {},
   "outputs": [],
   "source": [
    "r = requests.get(url)"
   ]
  },
  {
   "cell_type": "code",
   "execution_count": 4,
   "id": "881f3709-34cd-447b-97f6-ace37dc65db6",
   "metadata": {},
   "outputs": [],
   "source": [
    "bs = BeautifulSoup(r.text)"
   ]
  },
  {
   "cell_type": "code",
   "execution_count": 5,
   "id": "47f656e9-144c-4a5e-a1b0-4597fe320a68",
   "metadata": {},
   "outputs": [
    {
     "data": {
      "text/plain": [
       "'d101ca3f-efd5-4532-8f9e-8462b34b857e'"
      ]
     },
     "execution_count": 5,
     "metadata": {},
     "output_type": "execute_result"
    }
   ],
   "source": [
    "bs.find(\"form\", id=\"CSRFForm\").find(\"input\")['value']"
   ]
  },
  {
   "cell_type": "code",
   "execution_count": 12,
   "id": "e40e26a9-cd7b-4461-81b2-124cdd7925d4",
   "metadata": {},
   "outputs": [],
   "source": [
    "payload = { \"pageNum\" :\"1\",\n",
    "            \"pageSize\" :\t\"100\",\n",
    "            \"searchShopName\" :\t\"\",\n",
    "            \"searchSido\" :\t\"11\",\n",
    "            \"searchGugun\" :\t\"\",\n",
    "            \"searchDong\" :\t\"\",\n",
    "            \"searchType\" :\t\"\",\n",
    "            \"searchTypeService\" :\t\"0\",\n",
    "            \"searchTypeToto\" :\t\"0\",\n",
    "            \"searchTypeCafe25\" :\t\"0\",\n",
    "            \"searchTypeInstant\" :\t\"0\",\n",
    "            \"searchTypeDrug\" :\t\"0\",\n",
    "            \"searchTypeSelf25\" :\t\"0\",\n",
    "            \"searchTypePost\" :\t\"0\",\n",
    "            \"searchTypeATM\" :\t\"0\",\n",
    "            \"searchTypeWithdrawal\" :\t\"0\",\n",
    "            \"searchTypeTaxrefund\" :\t\"0\",\n",
    "            \"searchTypeSmartAtm\" :\t\"0\",\n",
    "            \"searchTypeSelfCookingUtensils\" :\t\"0\",\n",
    "            \"searchTypeDeliveryService\" :\t\"0\",}"
   ]
  },
  {
   "cell_type": "code",
   "execution_count": 13,
   "id": "8db44431-2d74-4650-9978-6851b336864e",
   "metadata": {},
   "outputs": [],
   "source": [
    "post_url = \"http://gs25.gsretail.com/gscvs/ko/store-services/locationList?CSRFToken={}\""
   ]
  },
  {
   "cell_type": "code",
   "execution_count": 14,
   "id": "2f4deb4d-17ed-4f7f-8290-a1694eb03aff",
   "metadata": {},
   "outputs": [],
   "source": [
    "with requests.Session() as s:\n",
    "    r = s.get(url)\n",
    "    bs = BeautifulSoup(r.text)\n",
    "    csrf = bs.find(\"form\", id=\"CSRFForm\").find(\"input\")['value']\n",
    "    r1 = s.post(post_url.format(csrf), data=payload)"
   ]
  },
  {
   "cell_type": "code",
   "execution_count": 15,
   "id": "c6feeccd-4867-4ac0-8578-cdaf06fc40a5",
   "metadata": {},
   "outputs": [],
   "source": [
    "import json"
   ]
  },
  {
   "cell_type": "code",
   "execution_count": 16,
   "id": "4e0cc270-0e4f-4738-a303-c0c44c76060c",
   "metadata": {},
   "outputs": [],
   "source": [
    "import pandas as pd"
   ]
  },
  {
   "cell_type": "code",
   "execution_count": 17,
   "id": "1c21a69f-8b1c-4f76-a02f-a65ad6b645a8",
   "metadata": {
    "scrolled": false
   },
   "outputs": [
    {
     "data": {
      "text/html": [
       "<div>\n",
       "<style scoped>\n",
       "    .dataframe tbody tr th:only-of-type {\n",
       "        vertical-align: middle;\n",
       "    }\n",
       "\n",
       "    .dataframe tbody tr th {\n",
       "        vertical-align: top;\n",
       "    }\n",
       "\n",
       "    .dataframe thead th {\n",
       "        text-align: right;\n",
       "    }\n",
       "</style>\n",
       "<table border=\"1\" class=\"dataframe\">\n",
       "  <thead>\n",
       "    <tr style=\"text-align: right;\">\n",
       "      <th></th>\n",
       "      <th>offeringService</th>\n",
       "      <th>shopCode</th>\n",
       "      <th>longs</th>\n",
       "      <th>address</th>\n",
       "      <th>shopName</th>\n",
       "      <th>lat</th>\n",
       "    </tr>\n",
       "  </thead>\n",
       "  <tbody>\n",
       "    <tr>\n",
       "      <th>0</th>\n",
       "      <td>[post]</td>\n",
       "      <td>VQ037</td>\n",
       "      <td>37.52831065</td>\n",
       "      <td>서울 양천구 목동서로159-1 (목1동 917-1, CBS방송국1층)</td>\n",
       "      <td>GS25CBS점</td>\n",
       "      <td>126.87486792</td>\n",
       "    </tr>\n",
       "    <tr>\n",
       "      <th>1</th>\n",
       "      <td>[cafe25, post]</td>\n",
       "      <td>VO395</td>\n",
       "      <td>37.5783899</td>\n",
       "      <td>서울 마포구 매봉산로75, 1층 107호 (상암동 1610)</td>\n",
       "      <td>GS25DDMC점</td>\n",
       "      <td>126.89294205</td>\n",
       "    </tr>\n",
       "    <tr>\n",
       "      <th>2</th>\n",
       "      <td>[drug, post]</td>\n",
       "      <td>VW887</td>\n",
       "      <td>37.57410234</td>\n",
       "      <td>서울 서대문구 가재울미래로2, 203동 101호 (남가좌동 385, 2단지)</td>\n",
       "      <td>GS25DMC가재울점</td>\n",
       "      <td>126.91639401</td>\n",
       "    </tr>\n",
       "    <tr>\n",
       "      <th>3</th>\n",
       "      <td>[drug, withdrawal]</td>\n",
       "      <td>VI989</td>\n",
       "      <td>37.55513349</td>\n",
       "      <td>서울 강동구 고덕로39 (암사3동 441-14)</td>\n",
       "      <td>GS25G고덕점</td>\n",
       "      <td>127.12956973</td>\n",
       "    </tr>\n",
       "    <tr>\n",
       "      <th>4</th>\n",
       "      <td>[post]</td>\n",
       "      <td>V8N82</td>\n",
       "      <td>37.52798374</td>\n",
       "      <td>서울 영등포구 국회대로746 (여의도동 17-2)</td>\n",
       "      <td>GS25G국회대로점</td>\n",
       "      <td>126.91602067</td>\n",
       "    </tr>\n",
       "    <tr>\n",
       "      <th>...</th>\n",
       "      <td>...</td>\n",
       "      <td>...</td>\n",
       "      <td>...</td>\n",
       "      <td>...</td>\n",
       "      <td>...</td>\n",
       "      <td>...</td>\n",
       "    </tr>\n",
       "    <tr>\n",
       "      <th>95</th>\n",
       "      <td>[cafe25]</td>\n",
       "      <td>V6Q28</td>\n",
       "      <td>37.50851093</td>\n",
       "      <td>서울 동작구 현충로지하 90, 9호선 흑석역 역사내 (흑석동 4)</td>\n",
       "      <td>GS25S9흑석역점</td>\n",
       "      <td>126.96407906</td>\n",
       "    </tr>\n",
       "    <tr>\n",
       "      <th>96</th>\n",
       "      <td>[cafe25, post]</td>\n",
       "      <td>V8G65</td>\n",
       "      <td>37.58161346</td>\n",
       "      <td>서울 마포구 월드컵북로434, 107호 (상암동 1590, 상암ITTower)</td>\n",
       "      <td>GS25SH상암1호점</td>\n",
       "      <td>126.88601067</td>\n",
       "    </tr>\n",
       "    <tr>\n",
       "      <th>97</th>\n",
       "      <td>[cafe25]</td>\n",
       "      <td>V2B55</td>\n",
       "      <td>37.48228276</td>\n",
       "      <td>서울 금천구 벚꽃로309, 7호선 가산디지털단지역 내 상가 3002 (가산동 468-4)</td>\n",
       "      <td>GS25S가산디지털단지역점</td>\n",
       "      <td>126.88218427</td>\n",
       "    </tr>\n",
       "    <tr>\n",
       "      <th>98</th>\n",
       "      <td>NaN</td>\n",
       "      <td>V8C97</td>\n",
       "      <td>37.51697895</td>\n",
       "      <td>서울 강남구 삼성동1 7호선강남구청역내</td>\n",
       "      <td>GS25S강남구청역점</td>\n",
       "      <td>127.04177805</td>\n",
       "    </tr>\n",
       "    <tr>\n",
       "      <th>99</th>\n",
       "      <td>NaN</td>\n",
       "      <td>VY010</td>\n",
       "      <td>37.49784131</td>\n",
       "      <td>서울 강남구 강남대로390, 지하1층 9호 (역삼동 825, 미진프라자)</td>\n",
       "      <td>GS25S강남역1호점</td>\n",
       "      <td>127.02863248</td>\n",
       "    </tr>\n",
       "  </tbody>\n",
       "</table>\n",
       "<p>100 rows × 6 columns</p>\n",
       "</div>"
      ],
      "text/plain": [
       "       offeringService shopCode        longs  \\\n",
       "0               [post]    VQ037  37.52831065   \n",
       "1       [cafe25, post]    VO395   37.5783899   \n",
       "2         [drug, post]    VW887  37.57410234   \n",
       "3   [drug, withdrawal]    VI989  37.55513349   \n",
       "4               [post]    V8N82  37.52798374   \n",
       "..                 ...      ...          ...   \n",
       "95            [cafe25]    V6Q28  37.50851093   \n",
       "96      [cafe25, post]    V8G65  37.58161346   \n",
       "97            [cafe25]    V2B55  37.48228276   \n",
       "98                 NaN    V8C97  37.51697895   \n",
       "99                 NaN    VY010  37.49784131   \n",
       "\n",
       "                                              address        shopName  \\\n",
       "0              서울 양천구 목동서로159-1 (목1동 917-1, CBS방송국1층)        GS25CBS점   \n",
       "1                   서울 마포구 매봉산로75, 1층 107호 (상암동 1610)       GS25DDMC점   \n",
       "2          서울 서대문구 가재울미래로2, 203동 101호 (남가좌동 385, 2단지)     GS25DMC가재울점   \n",
       "3                          서울 강동구 고덕로39 (암사3동 441-14)        GS25G고덕점   \n",
       "4                         서울 영등포구 국회대로746 (여의도동 17-2)      GS25G국회대로점   \n",
       "..                                                ...             ...   \n",
       "95               서울 동작구 현충로지하 90, 9호선 흑석역 역사내 (흑석동 4)      GS25S9흑석역점   \n",
       "96        서울 마포구 월드컵북로434, 107호 (상암동 1590, 상암ITTower)     GS25SH상암1호점   \n",
       "97  서울 금천구 벚꽃로309, 7호선 가산디지털단지역 내 상가 3002 (가산동 468-4)  GS25S가산디지털단지역점   \n",
       "98                              서울 강남구 삼성동1 7호선강남구청역내     GS25S강남구청역점   \n",
       "99           서울 강남구 강남대로390, 지하1층 9호 (역삼동 825, 미진프라자)     GS25S강남역1호점   \n",
       "\n",
       "             lat  \n",
       "0   126.87486792  \n",
       "1   126.89294205  \n",
       "2   126.91639401  \n",
       "3   127.12956973  \n",
       "4   126.91602067  \n",
       "..           ...  \n",
       "95  126.96407906  \n",
       "96  126.88601067  \n",
       "97  126.88218427  \n",
       "98  127.04177805  \n",
       "99  127.02863248  \n",
       "\n",
       "[100 rows x 6 columns]"
      ]
     },
     "execution_count": 17,
     "metadata": {},
     "output_type": "execute_result"
    }
   ],
   "source": [
    "pd.DataFrame(json.loads(r1.json())['results'])"
   ]
  },
  {
   "cell_type": "code",
   "execution_count": 25,
   "id": "9f5bb677-4ea2-49e1-8f36-2759eee7a9c8",
   "metadata": {},
   "outputs": [
    {
     "data": {
      "text/plain": [
       "'{\"results\":[{\"shopCode\":\"V3B64\",\"longs\":\"35.13664235\",\"address\":\"부산 동구 자성로134 (범일2동 825-3, 눌원빌딩)\",\"shopName\":\"GS25R부산동구2점\",\"lat\":\"129.06505424\"},{\"shopCode\":\"V3B63\",\"longs\":\"35.13664235\",\"address\":\"부산 동구 자성로134 (범일2동 825-3, 눌원빌딩)\",\"shopName\":\"GS25R부산동구3점\",\"lat\":\"129.06505424\"},{\"shopCode\":\"V2Z82\",\"longs\":\"35.18783219\",\"address\":\"부산 연제구 월드컵대로164번길26, 3층 (연산동 1127-1, 장연빌딩)\",\"shopName\":\"GS25R부산연제3점\",\"lat\":\"129.07932581\"},{\"shopCode\":\"VO430\",\"longs\":\"35.18783219\",\"address\":\"부산 연제구 월드컵대로164번길26, 4층 (연산동 1127-1, 장연빌딩)\",\"shopName\":\"GS25R부산연제4점\",\"lat\":\"129.07932581\"},{\"shopCode\":\"V5K27\",\"longs\":\"35.13746256\",\"address\":\"부산 남구 수영로지하 324 (대연동 77)\",\"shopName\":\"GS25S경성부경대역점\",\"lat\":\"129.10136383\"}],\"pagination\":{\"totalNumberOfResults\":865,\"numberOfPages\":173,\"pageSize\":5,\"currentPage\":0}}'"
      ]
     },
     "execution_count": 25,
     "metadata": {},
     "output_type": "execute_result"
    }
   ],
   "source": [
    "r1.json()"
   ]
  },
  {
   "cell_type": "code",
   "execution_count": 19,
   "id": "9cb1d948-db18-4638-88d9-5fb17f6f063c",
   "metadata": {},
   "outputs": [
    {
     "data": {
      "text/plain": [
       "'\"{\"results\":[{\"shopCode\":\"V3B64\",\"longs\":\"35.13664235\",\"address\":\"부산 동구 자성로134 (범일2동 825-3, 눌원빌딩)\",\"shopName\":\"GS25R부산동구2점\",\"lat\":\"129.06505424\"},{\"shopCode\":\"V3B63\",\"longs\":\"35.13664235\",\"address\":\"부산 동구 자성로134 (범일2동 825-3, 눌원빌딩)\",\"shopName\":\"GS25R부산동구3점\",\"lat\":\"129.06505424\"},{\"shopCode\":\"V2Z82\",\"longs\":\"35.18783219\",\"address\":\"부산 연제구 월드컵대로164번길26, 3층 (연산동 1127-1, 장연빌딩)\",\"shopName\":\"GS25R부산연제3점\",\"lat\":\"129.07932581\"},{\"shopCode\":\"VO430\",\"longs\":\"35.18783219\",\"address\":\"부산 연제구 월드컵대로164번길26, 4층 (연산동 1127-1, 장연빌딩)\",\"shopName\":\"GS25R부산연제4점\",\"lat\":\"129.07932581\"},{\"shopCode\":\"V5K27\",\"longs\":\"35.13746256\",\"address\":\"부산 남구 수영로지하 324 (대연동 77)\",\"shopName\":\"GS25S경성부경대역점\",\"lat\":\"129.10136383\"}],\"pagination\":{\"totalNumberOfResults\":865,\"numberOfPages\":173,\"pageSize\":5,\"currentPage\":0}}\"'"
      ]
     },
     "execution_count": 19,
     "metadata": {},
     "output_type": "execute_result"
    }
   ],
   "source": [
    "r1.text.replace(\"\\\\\", \"\")"
   ]
  },
  {
   "cell_type": "code",
   "execution_count": null,
   "id": "eda20e20-5921-4114-ae0f-2cdf3cbe323a",
   "metadata": {},
   "outputs": [],
   "source": []
  }
 ],
 "metadata": {
  "kernelspec": {
   "display_name": "Python 3 (ipykernel)",
   "language": "python",
   "name": "python3"
  },
  "language_info": {
   "codemirror_mode": {
    "name": "ipython",
    "version": 3
   },
   "file_extension": ".py",
   "mimetype": "text/x-python",
   "name": "python",
   "nbconvert_exporter": "python",
   "pygments_lexer": "ipython3",
   "version": "3.9.7"
  }
 },
 "nbformat": 4,
 "nbformat_minor": 5
}
