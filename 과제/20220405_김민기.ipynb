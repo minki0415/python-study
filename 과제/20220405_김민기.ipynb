{
 "cells": [
  {
   "cell_type": "code",
   "execution_count": 3,
   "id": "0b41a1ca",
   "metadata": {},
   "outputs": [],
   "source": [
    "import requests\n",
    "from bs4 import BeautifulSoup\n",
    "import os"
   ]
  },
  {
   "cell_type": "code",
   "execution_count": 4,
   "id": "396ff112",
   "metadata": {},
   "outputs": [],
   "source": [
    "def extract_lyrics(id_):\n",
    "    try:\n",
    "        # id별 노래 상세 페이지\n",
    "        target = \"https://www.melon.com/song/detail.htm?songId={}\"\n",
    "        head = {\"User-Agent\": \"Mozilla/5.0 (Windows NT 10.0; Win64; x64) AppleWebKit/537.36 (KHTML, like Gecko) Chrome/100.0.4896.60 Safari/537.36\"}\n",
    "        \n",
    "        r = requests.get(target.format(id_), headers=head)\n",
    "        bs = BeautifulSoup(r.text, 'html.parser')\n",
    "        \n",
    "        #가수\n",
    "        artist = bs.find(\"div\", class_=\"artist\").text.strip()\n",
    "        \n",
    "        #제목\n",
    "        title = bs.find(\"div\", class_=\"song_name\").text.replace(\"곡명\",\"\").strip()\n",
    "        \n",
    "        #가사\n",
    "        lyrics = BeautifulSoup(str(bs.find(\"div\", class_=\"lyric\")).replace(\"<br/>\", \"\\n\")).text.strip() \n",
    "        \n",
    "        #폴더가 없을 경우 폴더 생성\n",
    "        if os.path.isdir(\"./melon\") == False:\n",
    "            os.mkdir(\"./melon\")\n",
    "        \n",
    "        # 가수_노래제목.txt\n",
    "        f = open('./melon/{}_{}.txt'.format(artist,title),\"w\", encoding='utf-8')\n",
    "        f.write(lyrics)\n",
    "        f.close()\n",
    "        \n",
    "        print(\"파일 생성이 완료되었습니다.\")\n",
    "        \n",
    "    # 19금 노래 예외처리    \n",
    "    except OSError:\n",
    "        print(\"로그인이 필요합니다.\")\n",
    "        \n",
    "    except Exception as e:\n",
    "        print(e)"
   ]
  },
  {
   "cell_type": "code",
   "execution_count": 6,
   "id": "28fcabc3",
   "metadata": {},
   "outputs": [
    {
     "name": "stdout",
     "output_type": "stream",
     "text": [
      "파일 생성이 완료되었습니다.\n"
     ]
    }
   ],
   "source": [
    "extract_lyrics(34431086)"
   ]
  }
 ],
 "metadata": {
  "kernelspec": {
   "display_name": "Python 3 (ipykernel)",
   "language": "python",
   "name": "python3"
  },
  "language_info": {
   "codemirror_mode": {
    "name": "ipython",
    "version": 3
   },
   "file_extension": ".py",
   "mimetype": "text/x-python",
   "name": "python",
   "nbconvert_exporter": "python",
   "pygments_lexer": "ipython3",
   "version": "3.9.7"
  }
 },
 "nbformat": 4,
 "nbformat_minor": 5
}
