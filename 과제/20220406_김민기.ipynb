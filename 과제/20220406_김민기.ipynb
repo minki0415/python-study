{
 "cells": [
  {
   "cell_type": "markdown",
   "id": "ff85ade9",
   "metadata": {},
   "source": [
    "# 파일을 남자, 여자 폴더로 나눠서 이동\n",
    "- 파일에 적힌 금액을 남자 총금액, 여자 총금액 출력"
   ]
  },
  {
   "cell_type": "code",
   "execution_count": 15,
   "id": "a1934fad",
   "metadata": {},
   "outputs": [],
   "source": [
    "import os\n",
    "import shutil"
   ]
  },
  {
   "cell_type": "code",
   "execution_count": 36,
   "id": "0b99e794",
   "metadata": {},
   "outputs": [],
   "source": [
    "if os.path.isdir(\"../man\") == False:\n",
    "    os.mkdir(\"../man\")\n",
    "if os.path.isdir(\"../woman\") == False:\n",
    "    os.mkdir(\"../woman\")\n",
    "    \n",
    "for roots, dirs, files in os.walk(\"C:/20220103_lab/14.python/data\"):\n",
    "    for file in files:\n",
    "        if file[-11] == \"1\" or file[-11] == \"3\":\n",
    "            shutil.move(roots+\"/\"+file, \"../man/\"+file)\n",
    "        else:\n",
    "            shutil.move(roots+\"/\"+file, \"../woman/\"+file)"
   ]
  },
  {
   "cell_type": "code",
   "execution_count": 66,
   "id": "f014e406",
   "metadata": {},
   "outputs": [
    {
     "name": "stdout",
     "output_type": "stream",
     "text": [
      "59417587318\n"
     ]
    }
   ],
   "source": [
    "total_man = 0\n",
    "for roots, dirs, files in os.walk(\"C:/20220103_lab/14.python/man\"):\n",
    "    for file in files:\n",
    "        f = open(roots+\"/\"+file, \"r\", encoding='utf-8')\n",
    "        total_man += int(f.read().replace(\",\",\"\"))\n",
    "        f.close()\n",
    "print(total_man)"
   ]
  },
  {
   "cell_type": "code",
   "execution_count": 65,
   "id": "9c3d771d",
   "metadata": {},
   "outputs": [
    {
     "name": "stdout",
     "output_type": "stream",
     "text": [
      "64101458996\n"
     ]
    }
   ],
   "source": [
    "total_woman = 0\n",
    "for roots, dirs, files in os.walk(\"C:/20220103_lab/14.python/woman\"):\n",
    "    for file in files:\n",
    "        f = open(roots+\"/\"+file, \"r\", encoding='utf-8')\n",
    "        total_woman += int(f.read().replace(\",\",\"\"))\n",
    "        f.close()\n",
    "print(total_woman)"
   ]
  }
 ],
 "metadata": {
  "kernelspec": {
   "display_name": "Python 3 (ipykernel)",
   "language": "python",
   "name": "python3"
  },
  "language_info": {
   "codemirror_mode": {
    "name": "ipython",
    "version": 3
   },
   "file_extension": ".py",
   "mimetype": "text/x-python",
   "name": "python",
   "nbconvert_exporter": "python",
   "pygments_lexer": "ipython3",
   "version": "3.9.7"
  }
 },
 "nbformat": 4,
 "nbformat_minor": 5
}
