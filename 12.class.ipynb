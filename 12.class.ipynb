{
 "cells": [
  {
   "cell_type": "markdown",
   "id": "582837d5",
   "metadata": {},
   "source": [
    "# 객체와 클래스"
   ]
  },
  {
   "cell_type": "code",
   "execution_count": 1,
   "id": "ada076a7",
   "metadata": {},
   "outputs": [],
   "source": [
    "class Bicycle():\n",
    "    \n",
    "    def move(self, speed):\n",
    "        print(\"자전거: 시속 {0}킬로미터로 전진\".format(speed))\n",
    "        \n",
    "    def turn(self, direction):\n",
    "        print(\"자전거: {0}회전\".format(direction))\n",
    "        \n",
    "    def stop(self):\n",
    "        print(\"자전거({0}, {1}): 정지 \".format(self.wheel_size, self.color))"
   ]
  },
  {
   "cell_type": "code",
   "execution_count": 2,
   "id": "30932ca0",
   "metadata": {},
   "outputs": [
    {
     "name": "stdout",
     "output_type": "stream",
     "text": [
      "자전거: 시속 30킬로미터로 전진\n",
      "자전거: 좌회전\n",
      "자전거(26, black): 정지 \n"
     ]
    }
   ],
   "source": [
    "my_bicycle = Bicycle() # Bicycle 클래스의 인스턴스인 my_bicycle 객체 생성\n",
    "\n",
    "my_bicycle.wheel_size = 26 # 객체의 속성 설정\n",
    "my_bicycle.color = 'black' \n",
    "\n",
    "my_bicycle.move(30)  # 객체의 메서드 호출\n",
    "my_bicycle.turn('좌')\n",
    "my_bicycle.stop()"
   ]
  },
  {
   "cell_type": "code",
   "execution_count": 3,
   "id": "db185f1f",
   "metadata": {},
   "outputs": [
    {
     "name": "stdout",
     "output_type": "stream",
     "text": [
      "자전거: 시속 20킬로미터로 전진\n",
      "자전거: 좌회전\n",
      "자전거(27, red): 정지 \n"
     ]
    }
   ],
   "source": [
    "bicycle1 = Bicycle() # Bicycle 클래스의 인스턴스인 bicycle1 객체 생성\n",
    "\n",
    "bicycle1.wheel_size = 27 # 객체의 속성 설정\n",
    "bicycle1.color = 'red' \n",
    "\n",
    "bicycle1.move(20)\n",
    "bicycle1.turn('좌')\n",
    "bicycle1.stop()"
   ]
  },
  {
   "cell_type": "code",
   "execution_count": 4,
   "id": "c1c12a76",
   "metadata": {
    "scrolled": true
   },
   "outputs": [
    {
     "name": "stdout",
     "output_type": "stream",
     "text": [
      "자전거: 시속 15킬로미터로 전진\n",
      "자전거: 우회전\n",
      "자전거(24, blue): 정지 \n"
     ]
    }
   ],
   "source": [
    "bicycle2 = Bicycle() # Bicycle 클래스의 인스턴스인 bicycle2 객체 생성\n",
    "\n",
    "bicycle2.wheel_size = 24 # 객체의 속성 설정\n",
    "bicycle2.color = 'blue' \n",
    "\n",
    "bicycle2.move(15)\n",
    "bicycle2.turn('우')\n",
    "bicycle2.stop()"
   ]
  },
  {
   "cell_type": "markdown",
   "id": "f3ac177a",
   "metadata": {},
   "source": [
    "## 내부에 정의되어 있는 메소드"
   ]
  },
  {
   "cell_type": "code",
   "execution_count": 5,
   "id": "63dfc851",
   "metadata": {},
   "outputs": [
    {
     "data": {
      "text/plain": [
       "['__class__',\n",
       " '__delattr__',\n",
       " '__dict__',\n",
       " '__dir__',\n",
       " '__doc__',\n",
       " '__eq__',\n",
       " '__format__',\n",
       " '__ge__',\n",
       " '__getattribute__',\n",
       " '__gt__',\n",
       " '__hash__',\n",
       " '__init__',\n",
       " '__init_subclass__',\n",
       " '__le__',\n",
       " '__lt__',\n",
       " '__module__',\n",
       " '__ne__',\n",
       " '__new__',\n",
       " '__reduce__',\n",
       " '__reduce_ex__',\n",
       " '__repr__',\n",
       " '__setattr__',\n",
       " '__sizeof__',\n",
       " '__str__',\n",
       " '__subclasshook__',\n",
       " '__weakref__',\n",
       " 'color',\n",
       " 'move',\n",
       " 'stop',\n",
       " 'turn',\n",
       " 'wheel_size']"
      ]
     },
     "execution_count": 5,
     "metadata": {},
     "output_type": "execute_result"
    }
   ],
   "source": [
    "dir(my_bicycle)"
   ]
  },
  {
   "cell_type": "code",
   "execution_count": 6,
   "id": "20386a4b",
   "metadata": {},
   "outputs": [],
   "source": [
    "a = 10"
   ]
  },
  {
   "cell_type": "code",
   "execution_count": 7,
   "id": "fc58c339",
   "metadata": {
    "scrolled": true
   },
   "outputs": [
    {
     "data": {
      "text/plain": [
       "['__abs__',\n",
       " '__add__',\n",
       " '__and__',\n",
       " '__bool__',\n",
       " '__ceil__',\n",
       " '__class__',\n",
       " '__delattr__',\n",
       " '__dir__',\n",
       " '__divmod__',\n",
       " '__doc__',\n",
       " '__eq__',\n",
       " '__float__',\n",
       " '__floor__',\n",
       " '__floordiv__',\n",
       " '__format__',\n",
       " '__ge__',\n",
       " '__getattribute__',\n",
       " '__getnewargs__',\n",
       " '__gt__',\n",
       " '__hash__',\n",
       " '__index__',\n",
       " '__init__',\n",
       " '__init_subclass__',\n",
       " '__int__',\n",
       " '__invert__',\n",
       " '__le__',\n",
       " '__lshift__',\n",
       " '__lt__',\n",
       " '__mod__',\n",
       " '__mul__',\n",
       " '__ne__',\n",
       " '__neg__',\n",
       " '__new__',\n",
       " '__or__',\n",
       " '__pos__',\n",
       " '__pow__',\n",
       " '__radd__',\n",
       " '__rand__',\n",
       " '__rdivmod__',\n",
       " '__reduce__',\n",
       " '__reduce_ex__',\n",
       " '__repr__',\n",
       " '__rfloordiv__',\n",
       " '__rlshift__',\n",
       " '__rmod__',\n",
       " '__rmul__',\n",
       " '__ror__',\n",
       " '__round__',\n",
       " '__rpow__',\n",
       " '__rrshift__',\n",
       " '__rshift__',\n",
       " '__rsub__',\n",
       " '__rtruediv__',\n",
       " '__rxor__',\n",
       " '__setattr__',\n",
       " '__sizeof__',\n",
       " '__str__',\n",
       " '__sub__',\n",
       " '__subclasshook__',\n",
       " '__truediv__',\n",
       " '__trunc__',\n",
       " '__xor__',\n",
       " 'as_integer_ratio',\n",
       " 'bit_length',\n",
       " 'conjugate',\n",
       " 'denominator',\n",
       " 'from_bytes',\n",
       " 'imag',\n",
       " 'numerator',\n",
       " 'real',\n",
       " 'to_bytes']"
      ]
     },
     "execution_count": 7,
     "metadata": {},
     "output_type": "execute_result"
    }
   ],
   "source": [
    "dir(a)"
   ]
  },
  {
   "cell_type": "code",
   "execution_count": 8,
   "id": "43192e69",
   "metadata": {},
   "outputs": [
    {
     "name": "stdout",
     "output_type": "stream",
     "text": [
      "10\n"
     ]
    }
   ],
   "source": [
    "# print는 내부에 정의되어 있는 __str__ 를 통해서 출력\n",
    "print(a) "
   ]
  },
  {
   "cell_type": "code",
   "execution_count": 9,
   "id": "0806e081",
   "metadata": {},
   "outputs": [
    {
     "data": {
      "text/plain": [
       "10"
      ]
     },
     "execution_count": 9,
     "metadata": {},
     "output_type": "execute_result"
    }
   ],
   "source": [
    "a.__int__()"
   ]
  },
  {
   "cell_type": "code",
   "execution_count": 10,
   "id": "fd83c917",
   "metadata": {},
   "outputs": [
    {
     "data": {
      "text/plain": [
       "4"
      ]
     },
     "execution_count": 10,
     "metadata": {},
     "output_type": "execute_result"
    }
   ],
   "source": [
    "b = [1,2,3,4]\n",
    "\n",
    "len(b)"
   ]
  },
  {
   "cell_type": "code",
   "execution_count": 11,
   "id": "64d66500",
   "metadata": {},
   "outputs": [
    {
     "data": {
      "text/plain": [
       "4"
      ]
     },
     "execution_count": 11,
     "metadata": {},
     "output_type": "execute_result"
    }
   ],
   "source": [
    "b.__len__()"
   ]
  },
  {
   "cell_type": "markdown",
   "id": "3a1a0e0c",
   "metadata": {},
   "source": [
    "### 객체 초기화"
   ]
  },
  {
   "cell_type": "code",
   "execution_count": 12,
   "id": "06e9f452",
   "metadata": {},
   "outputs": [],
   "source": [
    "class Bicycle():    \n",
    "    \n",
    "    def __init__(self, wheel_size, color):\n",
    "        self.wheel_size = wheel_size\n",
    "        self.color = color\n",
    "        \n",
    "    def move(self, speed):\n",
    "        print(\"자전거: 시속 {0}킬로미터로 전진\".format(speed))\n",
    "        \n",
    "    def turn(self, direction):\n",
    "        print(\"자전거: {0}회전\".format(direction))\n",
    "        \n",
    "    def stop(self):\n",
    "        print(\"자전거({0}, {1}): 정지 \".format(self.wheel_size, self.color))"
   ]
  },
  {
   "cell_type": "code",
   "execution_count": 13,
   "id": "78400171",
   "metadata": {},
   "outputs": [
    {
     "name": "stdout",
     "output_type": "stream",
     "text": [
      "자전거: 시속 30킬로미터로 전진\n",
      "자전거: 좌회전\n",
      "자전거(26, black): 정지 \n"
     ]
    }
   ],
   "source": [
    "my_bicycle = Bicycle(26, 'black') # 객체 생성과 동시에 속성값을 지정.\n",
    "\n",
    "my_bicycle.move(30)  # 객체 메서드 호출\n",
    "my_bicycle.turn('좌')\n",
    "my_bicycle.stop()"
   ]
  },
  {
   "cell_type": "markdown",
   "id": "bdd9943f",
   "metadata": {},
   "source": [
    "# 클래스 만들기\n",
    "- 멜론 노래 정보 크롤링\n",
    "- 네이버 증권 정보 크롤링"
   ]
  },
  {
   "cell_type": "code",
   "execution_count": 22,
   "id": "ab709de4",
   "metadata": {},
   "outputs": [],
   "source": [
    "import requests\n",
    "import pandas as pd\n",
    "from bs4 import BeautifulSoup\n",
    "\n",
    "class Crawling():\n",
    "    \n",
    "    # 생성자\n",
    "    def __init__(self):\n",
    "        self.head = {\"User-Agent\": \"Mozilla/5.0 (Windows NT 10.0; Win64; x64) AppleWebKit/537.36 (KHTML, like Gecko) Chrome/100.0.4896.60 Safari/537.36\"} \n",
    "        self.url = {'melon' : 'https://www.melon.com/song/detail.htm?songId={}',\n",
    "                    'naver' : 'https://finance.naver.com/item/sise_day.naver?code={}&page={}'}\n",
    "    # 인스턴스 메소드\n",
    "    def get_melon(self, id_):\n",
    "        r = requests.get(self.url['melon'].format(id_), headers = self.head)\n",
    "        bs = BeautifulSoup(r.text, 'lxml')\n",
    "        bs_rt = bs.find(\"div\", id=\"d_video_summary\")\n",
    "\n",
    "        title = bs.find(\"div\", class_=\"song_name\").text.replace(\"곡명\", \"\").strip()\n",
    "        singer = bs.find(\"a\", class_=\"artist_name\")['title']\n",
    "        return title, singer, bs_rt.text.strip()\n",
    "    \n",
    "    # 인스턴스 메소드\n",
    "    def get_naver(self, code, page):\n",
    "        r = requests.get(self.url['naver'].format(code, page), headers = self.head)\n",
    "        stock = pd.read_html(r.text)[0].dropna().iloc[::-1].reset_index(drop = True)\n",
    "        return stock\n",
    "    "
   ]
  },
  {
   "cell_type": "code",
   "execution_count": 23,
   "id": "61906629",
   "metadata": {},
   "outputs": [],
   "source": [
    "mydata = Crawling()"
   ]
  },
  {
   "cell_type": "code",
   "execution_count": 24,
   "id": "4ab5423f",
   "metadata": {},
   "outputs": [
    {
     "data": {
      "text/plain": [
       "('헤픈 우연',\n",
       " '헤이즈 (Heize)',\n",
       " '처음이라기엔 너무길을 이미 다 아는 듯이우연히라기엔 모두다 정해진 듯이우연히 눈을 떠 보니이 세상에 태어나 있었고하필 네가 있는 곳이었다서서히 몸에 배어버린사소한 습관들이네게로 가는 길을 내게 알려줘처음이라기엔 너무길을 이미 다 아는 듯이우연히라기엔 모두다 정해진 듯이고통의 사랑도보통의 이별도You can make it happen You can make it heaven 우연히라기엔 모두다 정해진 듯이만약 내가 그때 그곳을헤매지 않았더라면 그날 네가 마음 아픈 이별을 안 했었더라면 네 뒤를 따라 걷던 곳네가 떨어트렸던 꽃 위태롭던 시간 속서로를 기다려왔어운명이라고 하기엔이를 수 있다 생각해우연히라고 하기엔설명이 필요한 것 같아어쩌면 또 스칠 수 있을지 몰라도지금이 아니면 안 될 것 같던 그 때로처음이라기엔 너무길을 이미 다 아는 듯이우연히라기엔 모두다 정해진 듯이고통의 사랑도보통의 이별도You can make it happen You can make it heaven 우연히라기엔 모두다 정해진 듯이어쩌면 기억을 지운 채로하나였던 우린 둘이 되고 운명이란 작은 점 안에서 서로를 찾으며 살았는지도고통의 사랑도보통의 이별도You can make it happen You can make it heaven 우연히라기엔 모두다 정해진 듯이우연히서서히점점 더 멀어져가 우연히천천히처음그곳으로 가')"
      ]
     },
     "execution_count": 24,
     "metadata": {},
     "output_type": "execute_result"
    }
   ],
   "source": [
    "mydata.get_melon(\"33503722\")"
   ]
  },
  {
   "cell_type": "code",
   "execution_count": 25,
   "id": "ffa17492",
   "metadata": {},
   "outputs": [
    {
     "data": {
      "text/html": [
       "<div>\n",
       "<style scoped>\n",
       "    .dataframe tbody tr th:only-of-type {\n",
       "        vertical-align: middle;\n",
       "    }\n",
       "\n",
       "    .dataframe tbody tr th {\n",
       "        vertical-align: top;\n",
       "    }\n",
       "\n",
       "    .dataframe thead th {\n",
       "        text-align: right;\n",
       "    }\n",
       "</style>\n",
       "<table border=\"1\" class=\"dataframe\">\n",
       "  <thead>\n",
       "    <tr style=\"text-align: right;\">\n",
       "      <th></th>\n",
       "      <th>날짜</th>\n",
       "      <th>종가</th>\n",
       "      <th>전일비</th>\n",
       "      <th>시가</th>\n",
       "      <th>고가</th>\n",
       "      <th>저가</th>\n",
       "      <th>거래량</th>\n",
       "    </tr>\n",
       "  </thead>\n",
       "  <tbody>\n",
       "    <tr>\n",
       "      <th>0</th>\n",
       "      <td>2022.04.06</td>\n",
       "      <td>68500.0</td>\n",
       "      <td>700.0</td>\n",
       "      <td>68600.0</td>\n",
       "      <td>68800.0</td>\n",
       "      <td>68500.0</td>\n",
       "      <td>15517308.0</td>\n",
       "    </tr>\n",
       "    <tr>\n",
       "      <th>1</th>\n",
       "      <td>2022.04.07</td>\n",
       "      <td>68000.0</td>\n",
       "      <td>500.0</td>\n",
       "      <td>68500.0</td>\n",
       "      <td>68500.0</td>\n",
       "      <td>68000.0</td>\n",
       "      <td>20683327.0</td>\n",
       "    </tr>\n",
       "    <tr>\n",
       "      <th>2</th>\n",
       "      <td>2022.04.08</td>\n",
       "      <td>67800.0</td>\n",
       "      <td>200.0</td>\n",
       "      <td>68100.0</td>\n",
       "      <td>68300.0</td>\n",
       "      <td>67700.0</td>\n",
       "      <td>15453191.0</td>\n",
       "    </tr>\n",
       "    <tr>\n",
       "      <th>3</th>\n",
       "      <td>2022.04.11</td>\n",
       "      <td>67900.0</td>\n",
       "      <td>100.0</td>\n",
       "      <td>67800.0</td>\n",
       "      <td>68100.0</td>\n",
       "      <td>67400.0</td>\n",
       "      <td>12263735.0</td>\n",
       "    </tr>\n",
       "    <tr>\n",
       "      <th>4</th>\n",
       "      <td>2022.04.12</td>\n",
       "      <td>67000.0</td>\n",
       "      <td>900.0</td>\n",
       "      <td>67600.0</td>\n",
       "      <td>67700.0</td>\n",
       "      <td>67000.0</td>\n",
       "      <td>13924389.0</td>\n",
       "    </tr>\n",
       "    <tr>\n",
       "      <th>5</th>\n",
       "      <td>2022.04.13</td>\n",
       "      <td>68700.0</td>\n",
       "      <td>1700.0</td>\n",
       "      <td>67300.0</td>\n",
       "      <td>69000.0</td>\n",
       "      <td>67200.0</td>\n",
       "      <td>17378619.0</td>\n",
       "    </tr>\n",
       "    <tr>\n",
       "      <th>6</th>\n",
       "      <td>2022.04.14</td>\n",
       "      <td>67500.0</td>\n",
       "      <td>1200.0</td>\n",
       "      <td>68700.0</td>\n",
       "      <td>68700.0</td>\n",
       "      <td>67500.0</td>\n",
       "      <td>16409494.0</td>\n",
       "    </tr>\n",
       "    <tr>\n",
       "      <th>7</th>\n",
       "      <td>2022.04.15</td>\n",
       "      <td>66600.0</td>\n",
       "      <td>900.0</td>\n",
       "      <td>67200.0</td>\n",
       "      <td>67300.0</td>\n",
       "      <td>66500.0</td>\n",
       "      <td>13176415.0</td>\n",
       "    </tr>\n",
       "    <tr>\n",
       "      <th>8</th>\n",
       "      <td>2022.04.18</td>\n",
       "      <td>66700.0</td>\n",
       "      <td>100.0</td>\n",
       "      <td>66500.0</td>\n",
       "      <td>67100.0</td>\n",
       "      <td>66100.0</td>\n",
       "      <td>10119203.0</td>\n",
       "    </tr>\n",
       "    <tr>\n",
       "      <th>9</th>\n",
       "      <td>2022.04.19</td>\n",
       "      <td>68000.0</td>\n",
       "      <td>1300.0</td>\n",
       "      <td>67100.0</td>\n",
       "      <td>68000.0</td>\n",
       "      <td>67000.0</td>\n",
       "      <td>6777005.0</td>\n",
       "    </tr>\n",
       "  </tbody>\n",
       "</table>\n",
       "</div>"
      ],
      "text/plain": [
       "           날짜       종가     전일비       시가       고가       저가         거래량\n",
       "0  2022.04.06  68500.0   700.0  68600.0  68800.0  68500.0  15517308.0\n",
       "1  2022.04.07  68000.0   500.0  68500.0  68500.0  68000.0  20683327.0\n",
       "2  2022.04.08  67800.0   200.0  68100.0  68300.0  67700.0  15453191.0\n",
       "3  2022.04.11  67900.0   100.0  67800.0  68100.0  67400.0  12263735.0\n",
       "4  2022.04.12  67000.0   900.0  67600.0  67700.0  67000.0  13924389.0\n",
       "5  2022.04.13  68700.0  1700.0  67300.0  69000.0  67200.0  17378619.0\n",
       "6  2022.04.14  67500.0  1200.0  68700.0  68700.0  67500.0  16409494.0\n",
       "7  2022.04.15  66600.0   900.0  67200.0  67300.0  66500.0  13176415.0\n",
       "8  2022.04.18  66700.0   100.0  66500.0  67100.0  66100.0  10119203.0\n",
       "9  2022.04.19  68000.0  1300.0  67100.0  68000.0  67000.0   6777005.0"
      ]
     },
     "execution_count": 25,
     "metadata": {},
     "output_type": "execute_result"
    }
   ],
   "source": [
    "mydata.get_naver(\"005930\",1)"
   ]
  },
  {
   "cell_type": "markdown",
   "id": "7ff48aa5",
   "metadata": {},
   "source": [
    "## 함수를 객체로 전달받기"
   ]
  },
  {
   "cell_type": "code",
   "execution_count": 63,
   "id": "80cc1f9f",
   "metadata": {},
   "outputs": [],
   "source": [
    "def make2(fn1):\n",
    "    return lambda : \"Hi, \" + fn1()"
   ]
  },
  {
   "cell_type": "code",
   "execution_count": 64,
   "id": "4f28671f",
   "metadata": {},
   "outputs": [],
   "source": [
    "def make1(hellofn):\n",
    "    return lambda : \"Welcome to \" + hellofn()"
   ]
  },
  {
   "cell_type": "code",
   "execution_count": 65,
   "id": "9adab3d0",
   "metadata": {},
   "outputs": [],
   "source": [
    "def hello():\n",
    "    return \"Encore\""
   ]
  },
  {
   "cell_type": "code",
   "execution_count": 66,
   "id": "0b1016a8",
   "metadata": {},
   "outputs": [],
   "source": [
    "hi = make2(make1(hello))"
   ]
  },
  {
   "cell_type": "code",
   "execution_count": 67,
   "id": "e9435fc9",
   "metadata": {},
   "outputs": [
    {
     "data": {
      "text/plain": [
       "'Hi, Welcome to Encore'"
      ]
     },
     "execution_count": 67,
     "metadata": {},
     "output_type": "execute_result"
    }
   ],
   "source": [
    "hi()"
   ]
  },
  {
   "cell_type": "code",
   "execution_count": 71,
   "id": "e335dd84",
   "metadata": {},
   "outputs": [],
   "source": [
    "hi2 = make1(hello)"
   ]
  },
  {
   "cell_type": "code",
   "execution_count": 73,
   "id": "d596f042",
   "metadata": {},
   "outputs": [
    {
     "data": {
      "text/plain": [
       "'Welcome to Encore'"
      ]
     },
     "execution_count": 73,
     "metadata": {},
     "output_type": "execute_result"
    }
   ],
   "source": [
    "hi2()"
   ]
  },
  {
   "cell_type": "markdown",
   "id": "6c8be1d5",
   "metadata": {},
   "source": [
    "### 데코레이터"
   ]
  },
  {
   "cell_type": "code",
   "execution_count": 68,
   "id": "4e69bfd2",
   "metadata": {},
   "outputs": [],
   "source": [
    "@make1\n",
    "def hello2():\n",
    "    return \"데코레이터\""
   ]
  },
  {
   "cell_type": "code",
   "execution_count": 69,
   "id": "129e3f3c",
   "metadata": {},
   "outputs": [],
   "source": [
    "hi3 = hello2()"
   ]
  },
  {
   "cell_type": "code",
   "execution_count": 75,
   "id": "688cff58",
   "metadata": {},
   "outputs": [
    {
     "data": {
      "text/plain": [
       "'Welcome to 데코레이터'"
      ]
     },
     "execution_count": 75,
     "metadata": {},
     "output_type": "execute_result"
    }
   ],
   "source": [
    "hi3"
   ]
  },
  {
   "cell_type": "code",
   "execution_count": 76,
   "id": "2a05c899",
   "metadata": {},
   "outputs": [],
   "source": [
    "def trace(func):\n",
    "    def wrapper():\n",
    "        print(func.__name__, '함수시작')\n",
    "        func()\n",
    "        print(func.__name__, '함수 끝')\n",
    "    return wrapper"
   ]
  },
  {
   "cell_type": "code",
   "execution_count": 77,
   "id": "18371f00",
   "metadata": {},
   "outputs": [],
   "source": [
    "@trace\n",
    "def hello():\n",
    "    print(\"하이 엔코아\")"
   ]
  },
  {
   "cell_type": "code",
   "execution_count": 78,
   "id": "de021888",
   "metadata": {},
   "outputs": [
    {
     "name": "stdout",
     "output_type": "stream",
     "text": [
      "hello 함수시작\n",
      "하이 엔코아\n",
      "hello 함수 끝\n"
     ]
    }
   ],
   "source": [
    "hello()"
   ]
  },
  {
   "cell_type": "markdown",
   "id": "059ac704",
   "metadata": {},
   "source": [
    "## 클래스에서 사용하는 함수"
   ]
  },
  {
   "cell_type": "markdown",
   "id": "871d174f",
   "metadata": {},
   "source": [
    "#### 인스턴스 메서드"
   ]
  },
  {
   "cell_type": "code",
   "execution_count": null,
   "id": "72deada7",
   "metadata": {},
   "outputs": [],
   "source": [
    "# Car 클래스 선언\n",
    "class Car():\n",
    "    instance_count = 0 # 클래스 변수 생성 및 초기화\n",
    "    \n",
    "    # 초기화 함수(인스턴스 메서드)\n",
    "    def __init__(self, size, color):\n",
    "        self.size = size    # 인스턴스 변수 생성 및 초기화\n",
    "        self.color = color  # 인스턴스 변수 생성 및 초기화\n",
    "        Car.instance_count = Car.instance_count + 1 # 클래스 변수 이용\n",
    "        print(\"자동차 객체의 수: {0}\".format(Car.instance_count))  \n",
    "       \n",
    "    # 인스턴스 메서드\n",
    "    def move(self, speed):\n",
    "        self.speed = speed  # 인스턴스 변수 생성    \n",
    "        print(\"자동차({0} & {1})가 \".format(self.size, self.color), end='')\n",
    "        print(\"시속 {0}킬로미터로 전진\".format(self.speed))\n",
    "        \n",
    "    # 인스턴스 메서드\n",
    "    def auto_cruise(self):\n",
    "        print(\"자율 주행 모드\")\n",
    "        self.move(self.speed) # move() 함수의 인자로 인스턴스 변수를 입력"
   ]
  },
  {
   "cell_type": "code",
   "execution_count": null,
   "id": "c9346964",
   "metadata": {},
   "outputs": [],
   "source": [
    "car1 = Car(\"small\", \"red\") # 객체 생성 (car1)\n",
    "car2 = Car(\"big\", \"green\") # 객체 생성 (car2)\n",
    "\n",
    "car1.move(80) #객체(car1)의 move() 메서드 호출\n",
    "car2.move(100) #객체(car2)의 move() 메서드 호출\n",
    "\n",
    "car1.auto_cruise() #객체(car1)의 auto_cruise() 메서드 호출\n",
    "car2.auto_cruise() #객체(car2)의 auto_cruise() 메서드 호출"
   ]
  },
  {
   "cell_type": "markdown",
   "id": "5619974f",
   "metadata": {},
   "source": [
    "#### 정적 메서드"
   ]
  },
  {
   "cell_type": "code",
   "execution_count": null,
   "id": "89404901",
   "metadata": {},
   "outputs": [],
   "source": [
    "# Car 클래스 선언\n",
    "class Car():\n",
    "        \n",
    "    # def __init__(self, size, color): => 앞의 코드 활용\n",
    "    # def move(self, speed): => 앞의 코드 활용\n",
    "    # def auto_cruise(self): => 앞의 코드 활용\n",
    "    \n",
    "    # 정적 메서드\n",
    "    @staticmethod\n",
    "    def check_type(model_code):\n",
    "        if(model_code >= 20):\n",
    "            print(\"이 자동차는 전기차입니다.\")\n",
    "        elif(10 <= model_code < 20):\n",
    "            print(\"이 자동차는 가솔린차입니다.\")\n",
    "        else:\n",
    "            print(\"이 자동차는 디젤차입니다.\")"
   ]
  },
  {
   "cell_type": "code",
   "execution_count": null,
   "id": "5d5c90a0",
   "metadata": {},
   "outputs": [],
   "source": [
    "Car.check_type(25)\n",
    "Car.check_type(2)"
   ]
  },
  {
   "cell_type": "code",
   "execution_count": 80,
   "id": "9ab61fc3",
   "metadata": {},
   "outputs": [],
   "source": [
    "import os\n",
    "import requests\n",
    "import pandas as pd\n",
    "from bs4 import BeautifulSoup\n",
    "\n",
    "class Crawling():\n",
    "    \n",
    "    # 생성자\n",
    "    def __init__(self):\n",
    "        self.head = {\"User-Agent\": \"Mozilla/5.0 (Windows NT 10.0; Win64; x64) AppleWebKit/537.36 (KHTML, like Gecko) Chrome/100.0.4896.60 Safari/537.36\"} \n",
    "        self.url = {'melon' : 'https://www.melon.com/song/detail.htm?songId={}',\n",
    "                    'naver' : 'https://finance.naver.com/item/sise_day.naver?code={}&page={}'}\n",
    "    # 인스턴스 메소드\n",
    "    def get_melon(self, id_):\n",
    "        r = requests.get(self.url['melon'].format(id_), headers = self.head)\n",
    "        bs = BeautifulSoup(r.text, 'lxml')\n",
    "        bs_rt = bs.find(\"div\", id=\"d_video_summary\")\n",
    "\n",
    "        title = bs.find(\"div\", class_=\"song_name\").text.replace(\"곡명\", \"\").strip()\n",
    "        singer = bs.find(\"a\", class_=\"artist_name\")['title']\n",
    "        return title, singer, bs_rt.text.strip()\n",
    "    \n",
    "    # 인스턴스 메소드\n",
    "    def get_naver(self, code, page):\n",
    "        r = requests.get(self.url['naver'].format(code, page), headers = self.head)\n",
    "        stock = pd.read_html(r.text)[0].dropna().iloc[::-1].reset_index(drop = True)\n",
    "        return stock\n",
    "    \n",
    "    # 정적 메소드\n",
    "    @staticmethod\n",
    "    def show_dir(target):\n",
    "        return os.listdir(target)"
   ]
  },
  {
   "cell_type": "code",
   "execution_count": 83,
   "id": "4f66aea9",
   "metadata": {},
   "outputs": [
    {
     "data": {
      "text/plain": [
       "['.ipynb_checkpoints',\n",
       " '01.python basic(1).ipynb',\n",
       " '02.python basic(2).ipynb',\n",
       " '03.file IO.ipynb',\n",
       " '04. module(import, datetime, pickle).ipynb',\n",
       " '05.data handling.ipynb',\n",
       " '06.crawling.ipynb',\n",
       " '07.selenium.ipynb',\n",
       " '08.pandas(1).ipynb',\n",
       " '09.pandas(2).ipynb',\n",
       " '10.pandas(3).ipynb',\n",
       " '11.data visualization.ipynb',\n",
       " '12.class.ipynb',\n",
       " 'data',\n",
       " 'python-for-data-analysis-master',\n",
       " 'util',\n",
       " 'workspace',\n",
       " '__pycache__',\n",
       " '과제']"
      ]
     },
     "execution_count": 83,
     "metadata": {},
     "output_type": "execute_result"
    }
   ],
   "source": [
    "Crawling.show_dir(\"C:/20220103_lab/14.python\")"
   ]
  },
  {
   "cell_type": "markdown",
   "id": "57b2adaf",
   "metadata": {},
   "source": [
    "#### 클래스 메서드"
   ]
  },
  {
   "cell_type": "code",
   "execution_count": 84,
   "id": "b94db9bf",
   "metadata": {},
   "outputs": [],
   "source": [
    "# Car 클래스 선언\n",
    "class Car():\n",
    "    instance_count = 0 # 클래스 변수    \n",
    "  \n",
    "    # 초기화 함수(인스턴스 메서드)\n",
    "    def __init__(self, size, color):\n",
    "        self.size = size    # 인스턴스 변수\n",
    "        self.color = color  # 인스턴스 변수\n",
    "        Car.instance_count = Car.instance_count + 1\n",
    "       \n",
    "    # def move(self, speed): => 앞의 코드 활용\n",
    "    # def auto_cruise(self): => 앞의 코드 활용\n",
    "    # @staticmethod\n",
    "    # def check_type(model_code): => 앞의 코드 활용\n",
    "    \n",
    "    # 클래스 메서드 : 클래스 변수에 접근할 수 있는 함수\n",
    "    @classmethod\n",
    "    def count_instance(cls):\n",
    "        print(\"자동차 객체의 개수: {0}\".format(cls.instance_count))\n",
    "    \n",
    "    # @classmethod 를 쓰지 않으면 클래스 변수에 접근 불가능\n",
    "    def test(self):\n",
    "        print(instace_count)"
   ]
  },
  {
   "cell_type": "code",
   "execution_count": 85,
   "id": "d3bf187c",
   "metadata": {},
   "outputs": [
    {
     "name": "stdout",
     "output_type": "stream",
     "text": [
      "자동차 객체의 개수: 0\n",
      "자동차 객체의 개수: 1\n",
      "자동차 객체의 개수: 2\n"
     ]
    }
   ],
   "source": [
    "Car.count_instance() # 객체 생성 전에 클래스 메서드 호출\n",
    "\n",
    "car1 = Car(\"small\", \"red\") # 첫 번째 객체 생성\n",
    "Car.count_instance() # 클래스 메서드 호출\n",
    "\n",
    "car2 = Car(\"big\", \"green\") # 두 번째 객체 생성\n",
    "Car.count_instance() # 클래스 메서드 호출"
   ]
  },
  {
   "cell_type": "markdown",
   "id": "ef439de1",
   "metadata": {},
   "source": [
    "## 클래스 상속"
   ]
  },
  {
   "cell_type": "code",
   "execution_count": 86,
   "id": "a4391514",
   "metadata": {},
   "outputs": [],
   "source": [
    "class Bicycle():\n",
    "    \n",
    "    def __init__(self, wheel_size, color):\n",
    "        self.wheel_size = wheel_size\n",
    "        self.color = color\n",
    "        \n",
    "    def move(self, speed):\n",
    "        print(\"자전거: 시속 {0}킬로미터로 전진\".format(speed))\n",
    "        \n",
    "    def turn(self, direction):\n",
    "        print(\"자전거: {0}회전\".format(direction))\n",
    "        \n",
    "    def stop(self):\n",
    "        print(\"자전거({0}, {1}): 정지 \".format(self.wheel_size, self.color))"
   ]
  },
  {
   "cell_type": "code",
   "execution_count": 87,
   "id": "441dfbe7",
   "metadata": {},
   "outputs": [],
   "source": [
    "class FoldingBicycle(Bicycle, Crawling): #파라미터에 상속받고자 하는 클래스명 기입, 다중상속 가능\n",
    "        \n",
    "    def __init__(self, wheel_size, color, state): # FoldingBicycle 초기화\n",
    "        Bicycle.__init__(self, wheel_size, color) # Bicycle의 초기화 재사용\n",
    "        #super().__init__(wheel_size, color) # super()도 사용 가능\n",
    "        self.state = state  # 자식 클래스에서 새로 추가한 변수 \n",
    "        \n",
    "    def fold(self):\n",
    "        self.state = 'folding'\n",
    "        print(\"자전거: 접기, state = {0}\".format(self.state))\n",
    "\n",
    "    def unfold(self):\n",
    "        self.state = 'unfolding'\n",
    "        print(\"자전거: 펴기, state = {0}\".format(self.state))"
   ]
  },
  {
   "cell_type": "code",
   "execution_count": 88,
   "id": "093d48e2",
   "metadata": {},
   "outputs": [
    {
     "name": "stdout",
     "output_type": "stream",
     "text": [
      "자전거: 시속 20킬로미터로 전진\n",
      "자전거: 접기, state = folding\n",
      "자전거: 펴기, state = unfolding\n"
     ]
    }
   ],
   "source": [
    "folding_bicycle = FoldingBicycle(27, 'white', 'unfolding') # 객체 생성\n",
    "\n",
    "folding_bicycle.move(20) # 부모 클래스의 함수(메서드) 호출\n",
    "folding_bicycle.fold()   # 자식 클래스에서 정의한 함수 호출\n",
    "folding_bicycle.unfold()"
   ]
  },
  {
   "cell_type": "code",
   "execution_count": null,
   "id": "b43b4485",
   "metadata": {},
   "outputs": [],
   "source": []
  }
 ],
 "metadata": {
  "kernelspec": {
   "display_name": "Python 3 (ipykernel)",
   "language": "python",
   "name": "python3"
  },
  "language_info": {
   "codemirror_mode": {
    "name": "ipython",
    "version": 3
   },
   "file_extension": ".py",
   "mimetype": "text/x-python",
   "name": "python",
   "nbconvert_exporter": "python",
   "pygments_lexer": "ipython3",
   "version": "3.9.7"
  }
 },
 "nbformat": 4,
 "nbformat_minor": 5
}
