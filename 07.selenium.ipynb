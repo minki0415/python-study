{
 "cells": [
  {
   "cell_type": "markdown",
   "metadata": {},
   "source": [
    "# KBO\n",
    "### Selenium을 사용하여 데이터 수집하는 방법을 살펴보겠습니다.\n"
   ]
  },
  {
   "cell_type": "code",
   "execution_count": 1,
   "metadata": {},
   "outputs": [
    {
     "name": "stdout",
     "output_type": "stream",
     "text": [
      "Collecting webdriver-manager\n",
      "  Downloading webdriver_manager-3.5.4-py2.py3-none-any.whl (18 kB)\n",
      "Requirement already satisfied: requests in c:\\users\\minki_kim\\anaconda3\\lib\\site-packages (from webdriver-manager) (2.26.0)\n",
      "Requirement already satisfied: idna<4,>=2.5 in c:\\users\\minki_kim\\anaconda3\\lib\\site-packages (from requests->webdriver-manager) (3.2)\n",
      "Requirement already satisfied: urllib3<1.27,>=1.21.1 in c:\\users\\minki_kim\\anaconda3\\lib\\site-packages (from requests->webdriver-manager) (1.26.7)\n",
      "Requirement already satisfied: certifi>=2017.4.17 in c:\\users\\minki_kim\\anaconda3\\lib\\site-packages (from requests->webdriver-manager) (2021.10.8)\n",
      "Requirement already satisfied: charset-normalizer~=2.0.0 in c:\\users\\minki_kim\\anaconda3\\lib\\site-packages (from requests->webdriver-manager) (2.0.4)\n",
      "Installing collected packages: webdriver-manager\n",
      "Successfully installed webdriver-manager-3.5.4\n"
     ]
    }
   ],
   "source": [
    "!pip install webdriver-manager"
   ]
  },
  {
   "cell_type": "code",
   "execution_count": 2,
   "metadata": {},
   "outputs": [
    {
     "name": "stdout",
     "output_type": "stream",
     "text": [
      "Requirement already satisfied: selenium in c:\\users\\minki_kim\\anaconda3\\lib\\site-packages (4.1.3)\n",
      "Requirement already satisfied: trio-websocket~=0.9 in c:\\users\\minki_kim\\anaconda3\\lib\\site-packages (from selenium) (0.9.2)\n",
      "Requirement already satisfied: urllib3[secure,socks]~=1.26 in c:\\users\\minki_kim\\anaconda3\\lib\\site-packages (from selenium) (1.26.7)\n",
      "Requirement already satisfied: trio~=0.17 in c:\\users\\minki_kim\\anaconda3\\lib\\site-packages (from selenium) (0.20.0)\n",
      "Requirement already satisfied: attrs>=19.2.0 in c:\\users\\minki_kim\\anaconda3\\lib\\site-packages (from trio~=0.17->selenium) (21.2.0)\n",
      "Requirement already satisfied: sortedcontainers in c:\\users\\minki_kim\\anaconda3\\lib\\site-packages (from trio~=0.17->selenium) (2.4.0)\n",
      "Requirement already satisfied: outcome in c:\\users\\minki_kim\\anaconda3\\lib\\site-packages (from trio~=0.17->selenium) (1.1.0)\n",
      "Requirement already satisfied: sniffio in c:\\users\\minki_kim\\anaconda3\\lib\\site-packages (from trio~=0.17->selenium) (1.2.0)\n",
      "Requirement already satisfied: cffi>=1.14 in c:\\users\\minki_kim\\anaconda3\\lib\\site-packages (from trio~=0.17->selenium) (1.14.6)\n",
      "Requirement already satisfied: idna in c:\\users\\minki_kim\\anaconda3\\lib\\site-packages (from trio~=0.17->selenium) (3.2)\n",
      "Requirement already satisfied: async-generator>=1.9 in c:\\users\\minki_kim\\anaconda3\\lib\\site-packages (from trio~=0.17->selenium) (1.10)\n",
      "Requirement already satisfied: pycparser in c:\\users\\minki_kim\\anaconda3\\lib\\site-packages (from cffi>=1.14->trio~=0.17->selenium) (2.20)\n",
      "Requirement already satisfied: wsproto>=0.14 in c:\\users\\minki_kim\\anaconda3\\lib\\site-packages (from trio-websocket~=0.9->selenium) (1.1.0)\n",
      "Requirement already satisfied: PySocks!=1.5.7,<2.0,>=1.5.6 in c:\\users\\minki_kim\\anaconda3\\lib\\site-packages (from urllib3[secure,socks]~=1.26->selenium) (1.7.1)\n",
      "Requirement already satisfied: pyOpenSSL>=0.14 in c:\\users\\minki_kim\\anaconda3\\lib\\site-packages (from urllib3[secure,socks]~=1.26->selenium) (21.0.0)\n",
      "Requirement already satisfied: cryptography>=1.3.4 in c:\\users\\minki_kim\\anaconda3\\lib\\site-packages (from urllib3[secure,socks]~=1.26->selenium) (3.4.8)\n",
      "Requirement already satisfied: certifi in c:\\users\\minki_kim\\anaconda3\\lib\\site-packages (from urllib3[secure,socks]~=1.26->selenium) (2021.10.8)\n",
      "Requirement already satisfied: six>=1.5.2 in c:\\users\\minki_kim\\anaconda3\\lib\\site-packages (from pyOpenSSL>=0.14->urllib3[secure,socks]~=1.26->selenium) (1.16.0)\n",
      "Requirement already satisfied: h11<1,>=0.9.0 in c:\\users\\minki_kim\\anaconda3\\lib\\site-packages (from wsproto>=0.14->trio-websocket~=0.9->selenium) (0.13.0)\n"
     ]
    }
   ],
   "source": [
    "!pip install selenium"
   ]
  },
  {
   "cell_type": "code",
   "execution_count": 3,
   "metadata": {},
   "outputs": [],
   "source": [
    "from selenium import webdriver\n",
    "from selenium.webdriver.chrome.service import Service\n",
    "from selenium.webdriver.common.by import By\n",
    "from bs4 import BeautifulSoup as BS\n",
    "import re\n",
    "import requests\n",
    "from urllib import request\n",
    "import pandas as pd"
   ]
  },
  {
   "cell_type": "markdown",
   "metadata": {},
   "source": [
    "* 정규식 패턴을 사용합니다. \n",
    "    * 아래 정규식 패턴은 playerId의 숫자값을 추출하는 정규식입니다."
   ]
  },
  {
   "cell_type": "code",
   "execution_count": 4,
   "metadata": {},
   "outputs": [],
   "source": [
    "pattern = re.compile(\"playerId=([0-9]+)\")"
   ]
  },
  {
   "cell_type": "markdown",
   "metadata": {},
   "source": [
    "* Selenium을 사용하기 위해서는 브라우저의 드라이버를 설정해야 합니다. \n",
    "    * 이번 예제는 크롬 브라우저를 사용하기 때문에 크롬 드라이버를 선택해줍니다. \n",
    "    * 다운로드\n",
    "    * https://chromedriver.chromium.org/downloads"
   ]
  },
  {
   "cell_type": "code",
   "execution_count": 8,
   "metadata": {
    "scrolled": false
   },
   "outputs": [],
   "source": [
    "s = Service(\"C:/chrome/chromedriver.exe\")\n",
    "\n",
    "driver = webdriver.Chrome(service=s)"
   ]
  },
  {
   "cell_type": "code",
   "execution_count": 9,
   "metadata": {},
   "outputs": [],
   "source": [
    "driver.get(\"http://www.koreabaseball.com\")"
   ]
  },
  {
   "cell_type": "code",
   "execution_count": 10,
   "metadata": {},
   "outputs": [],
   "source": [
    "driver.find_element(by=By.CSS_SELECTOR, \n",
    "                    value=\"#popupVideo > img\").click()"
   ]
  },
  {
   "cell_type": "code",
   "execution_count": 6,
   "metadata": {},
   "outputs": [],
   "source": [
    "#cphContents_cphContents_cphContents_ddlTeam > option:nth-child(8)\n",
    "#cphContents_cphContents_cphContents_ddlTeam > option:nth-child(10)"
   ]
  },
  {
   "cell_type": "code",
   "execution_count": 11,
   "metadata": {},
   "outputs": [],
   "source": [
    "driver.find_element(by=By.CSS_SELECTOR, \n",
    "                     value=\"#lnb > li:nth-child(4) > a\").click()"
   ]
  },
  {
   "cell_type": "code",
   "execution_count": 12,
   "metadata": {},
   "outputs": [],
   "source": [
    "select_team = \"#cphContents_cphContents_cphContents_ddlTeam > option:nth-child({})\""
   ]
  },
  {
   "cell_type": "code",
   "execution_count": 13,
   "metadata": {},
   "outputs": [],
   "source": [
    "select_page = \"#cphContents_cphContents_cphContents_ucPager_btnNo{}\""
   ]
  },
  {
   "cell_type": "code",
   "execution_count": 14,
   "metadata": {},
   "outputs": [],
   "source": [
    "import time"
   ]
  },
  {
   "cell_type": "code",
   "execution_count": 15,
   "metadata": {},
   "outputs": [
    {
     "name": "stdout",
     "output_type": "stream",
     "text": [
      "Message: no such element: Unable to locate element: {\"method\":\"css selector\",\"selector\":\"#cphContents_cphContents_cphContents_ucPager_btnNo5\"}\n",
      "  (Session info: chrome=100.0.4896.75)\n",
      "Stacktrace:\n",
      "Backtrace:\n",
      "\tOrdinal0 [0x00568BD3+2395091]\n",
      "\tOrdinal0 [0x004FACA1+1944737]\n",
      "\tOrdinal0 [0x003ED008+839688]\n",
      "\tOrdinal0 [0x00419BFD+1022973]\n",
      "\tOrdinal0 [0x00419EBB+1023675]\n",
      "\tOrdinal0 [0x00446A92+1206930]\n",
      "\tOrdinal0 [0x00434C04+1133572]\n",
      "\tOrdinal0 [0x00444D62+1199458]\n",
      "\tOrdinal0 [0x004349D6+1133014]\n",
      "\tOrdinal0 [0x0040EF76+978806]\n",
      "\tOrdinal0 [0x0040FE86+982662]\n",
      "\tGetHandleVerifier [0x0071C912+1719138]\n",
      "\tGetHandleVerifier [0x007CB2CD+2434333]\n",
      "\tGetHandleVerifier [0x00604001+569937]\n",
      "\tGetHandleVerifier [0x00603066+565942]\n",
      "\tOrdinal0 [0x0050265B+1975899]\n",
      "\tOrdinal0 [0x005072A8+1995432]\n",
      "\tOrdinal0 [0x00507395+1995669]\n",
      "\tOrdinal0 [0x005102F1+2032369]\n",
      "\tBaseThreadInitThunk [0x76CAFA29+25]\n",
      "\tRtlGetAppContainerNamedObjectPath [0x77E97A7E+286]\n",
      "\tRtlGetAppContainerNamedObjectPath [0x77E97A4E+238]\n",
      "\n",
      "Message: no such element: Unable to locate element: {\"method\":\"css selector\",\"selector\":\"#cphContents_cphContents_cphContents_ucPager_btnNo5\"}\n",
      "  (Session info: chrome=100.0.4896.75)\n",
      "Stacktrace:\n",
      "Backtrace:\n",
      "\tOrdinal0 [0x00568BD3+2395091]\n",
      "\tOrdinal0 [0x004FACA1+1944737]\n",
      "\tOrdinal0 [0x003ED008+839688]\n",
      "\tOrdinal0 [0x00419BFD+1022973]\n",
      "\tOrdinal0 [0x00419EBB+1023675]\n",
      "\tOrdinal0 [0x00446A92+1206930]\n",
      "\tOrdinal0 [0x00434C04+1133572]\n",
      "\tOrdinal0 [0x00444D62+1199458]\n",
      "\tOrdinal0 [0x004349D6+1133014]\n",
      "\tOrdinal0 [0x0040EF76+978806]\n",
      "\tOrdinal0 [0x0040FE86+982662]\n",
      "\tGetHandleVerifier [0x0071C912+1719138]\n",
      "\tGetHandleVerifier [0x007CB2CD+2434333]\n",
      "\tGetHandleVerifier [0x00604001+569937]\n",
      "\tGetHandleVerifier [0x00603066+565942]\n",
      "\tOrdinal0 [0x0050265B+1975899]\n",
      "\tOrdinal0 [0x005072A8+1995432]\n",
      "\tOrdinal0 [0x00507395+1995669]\n",
      "\tOrdinal0 [0x005102F1+2032369]\n",
      "\tBaseThreadInitThunk [0x76CAFA29+25]\n",
      "\tRtlGetAppContainerNamedObjectPath [0x77E97A7E+286]\n",
      "\tRtlGetAppContainerNamedObjectPath [0x77E97A4E+238]\n",
      "\n",
      "Message: no such element: Unable to locate element: {\"method\":\"css selector\",\"selector\":\"#cphContents_cphContents_cphContents_ucPager_btnNo5\"}\n",
      "  (Session info: chrome=100.0.4896.75)\n",
      "Stacktrace:\n",
      "Backtrace:\n",
      "\tOrdinal0 [0x00568BD3+2395091]\n",
      "\tOrdinal0 [0x004FACA1+1944737]\n",
      "\tOrdinal0 [0x003ED008+839688]\n",
      "\tOrdinal0 [0x00419BFD+1022973]\n",
      "\tOrdinal0 [0x00419EBB+1023675]\n",
      "\tOrdinal0 [0x00446A92+1206930]\n",
      "\tOrdinal0 [0x00434C04+1133572]\n",
      "\tOrdinal0 [0x00444D62+1199458]\n",
      "\tOrdinal0 [0x004349D6+1133014]\n",
      "\tOrdinal0 [0x0040EF76+978806]\n",
      "\tOrdinal0 [0x0040FE86+982662]\n",
      "\tGetHandleVerifier [0x0071C912+1719138]\n",
      "\tGetHandleVerifier [0x007CB2CD+2434333]\n",
      "\tGetHandleVerifier [0x00604001+569937]\n",
      "\tGetHandleVerifier [0x00603066+565942]\n",
      "\tOrdinal0 [0x0050265B+1975899]\n",
      "\tOrdinal0 [0x005072A8+1995432]\n",
      "\tOrdinal0 [0x00507395+1995669]\n",
      "\tOrdinal0 [0x005102F1+2032369]\n",
      "\tBaseThreadInitThunk [0x76CAFA29+25]\n",
      "\tRtlGetAppContainerNamedObjectPath [0x77E97A7E+286]\n",
      "\tRtlGetAppContainerNamedObjectPath [0x77E97A4E+238]\n",
      "\n"
     ]
    }
   ],
   "source": [
    "playid = []\n",
    "for x in range(2,12):\n",
    "    for_1 = select_team.format(x)\n",
    "    driver.find_element(by=By.CSS_SELECTOR, value=for_1).click()\n",
    "    time.sleep(2)\n",
    "    #playid.extend(pattern.findall(driver.page_source))\n",
    "    for y in range(1,6):\n",
    "        f2 = select_page.format(y)\n",
    "        try:\n",
    "            driver.find_element(by=By.CSS_SELECTOR, value=f2).click()\n",
    "            time.sleep(1)\n",
    "            playid.extend(pattern.findall(driver.page_source))\n",
    "        except Exception as e:\n",
    "            print (e)\n",
    "        time.sleep(2)"
   ]
  },
  {
   "cell_type": "code",
   "execution_count": 16,
   "metadata": {
    "jupyter": {
     "outputs_hidden": true
    }
   },
   "outputs": [
    {
     "data": {
      "text/plain": [
       "829"
      ]
     },
     "execution_count": 16,
     "metadata": {},
     "output_type": "execute_result"
    }
   ],
   "source": [
    "len(playid)"
   ]
  },
  {
   "cell_type": "code",
   "execution_count": 17,
   "metadata": {},
   "outputs": [],
   "source": [
    "import pickle"
   ]
  },
  {
   "cell_type": "code",
   "execution_count": 18,
   "metadata": {},
   "outputs": [],
   "source": [
    "with open(\"./kbo.pkl\", \"wb\") as f:\n",
    "    pickle.dump(playid,f)"
   ]
  },
  {
   "cell_type": "code",
   "execution_count": null,
   "metadata": {},
   "outputs": [],
   "source": []
  },
  {
   "cell_type": "markdown",
   "metadata": {},
   "source": [
    "### 선수들의 세부 항목들을 수집합니다."
   ]
  },
  {
   "cell_type": "code",
   "execution_count": 19,
   "metadata": {},
   "outputs": [],
   "source": [
    "r = requests.get(\"https://www.koreabaseball.com/Record/Player/HitterDetail/Basic.aspx?playerId=62356\")"
   ]
  },
  {
   "cell_type": "code",
   "execution_count": null,
   "metadata": {},
   "outputs": [],
   "source": []
  },
  {
   "cell_type": "markdown",
   "metadata": {},
   "source": [
    "* 이미지를 다운로드 받고 싶다면 아래 코드를 사용합니다."
   ]
  },
  {
   "cell_type": "code",
   "execution_count": 20,
   "metadata": {},
   "outputs": [
    {
     "data": {
      "text/plain": [
       "('./김규민.jpg', <http.client.HTTPMessage at 0x19b6e680dc0>)"
      ]
     },
     "execution_count": 20,
     "metadata": {},
     "output_type": "execute_result"
    }
   ],
   "source": [
    "request.urlretrieve(\"http:\"+BS(r.text).find(\"div\",\\\n",
    "            class_ = \"player_basic\").find(\"img\")['src'], \"./김규민.jpg\")"
   ]
  },
  {
   "cell_type": "markdown",
   "metadata": {},
   "source": [
    "### 사용자 함수를 작성하여 선수들의 세부 정보를 수집합니다."
   ]
  },
  {
   "cell_type": "code",
   "execution_count": 23,
   "metadata": {},
   "outputs": [],
   "source": [
    "def playerID(id_):\n",
    "    play_dict = {}\n",
    "    url = \"https://www.koreabaseball.com/Record/Player/HitterDetail/Basic.aspx?playerId={}\".format(id_)\n",
    "    r = requests.get(url)\n",
    "    #print (r.url)\n",
    "    for x in BS(r.text).find(\"div\",\\\n",
    "                class_ = \"player_basic\").findAll(\"li\"):\n",
    "        rt = [y.strip() for y in x.text.strip().split(\":\")]\n",
    "        play_dict[rt[0]] = rt[1]\n",
    "    play_dict['Team'] = BS(r.text).find(\"h4\", id=\"h4Team\").text\n",
    "    return play_dict"
   ]
  },
  {
   "cell_type": "code",
   "execution_count": 22,
   "metadata": {},
   "outputs": [
    {
     "data": {
      "text/plain": [
       "'69158'"
      ]
     },
     "execution_count": 22,
     "metadata": {},
     "output_type": "execute_result"
    }
   ],
   "source": [
    "playid[0]"
   ]
  },
  {
   "cell_type": "code",
   "execution_count": 24,
   "metadata": {},
   "outputs": [
    {
     "data": {
      "text/plain": [
       "{'선수명': '강정현',\n",
       " '등번호': 'No.100',\n",
       " '생년월일': '1995년 09월 23일',\n",
       " '포지션': '투수(우투우타)',\n",
       " '신장/체중': '180cm/90kg',\n",
       " '경력': '남부민초-대신중-부경고-원광대-LG-상무',\n",
       " '입단 계약금': '7000만원',\n",
       " '연봉': '3300만원',\n",
       " '지명순위': '19 LG 2차 4라운드 35순위',\n",
       " '입단년도': '19LG',\n",
       " 'Team': 'LG 트윈스'}"
      ]
     },
     "execution_count": 24,
     "metadata": {},
     "output_type": "execute_result"
    }
   ],
   "source": [
    "playerID(playid[0])"
   ]
  },
  {
   "cell_type": "code",
   "execution_count": null,
   "metadata": {},
   "outputs": [],
   "source": []
  }
 ],
 "metadata": {
  "kernelspec": {
   "display_name": "Python 3 (ipykernel)",
   "language": "python",
   "name": "python3"
  },
  "language_info": {
   "codemirror_mode": {
    "name": "ipython",
    "version": 3
   },
   "file_extension": ".py",
   "mimetype": "text/x-python",
   "name": "python",
   "nbconvert_exporter": "python",
   "pygments_lexer": "ipython3",
   "version": "3.9.7"
  }
 },
 "nbformat": 4,
 "nbformat_minor": 4
}
