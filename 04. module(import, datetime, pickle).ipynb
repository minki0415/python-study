{
 "cells": [
  {
   "cell_type": "markdown",
   "id": "0901a01d",
   "metadata": {},
   "source": [
    "# Import"
   ]
  },
  {
   "cell_type": "markdown",
   "id": "f400f3f3",
   "metadata": {},
   "source": [
    "## 사용자 모듈"
   ]
  },
  {
   "cell_type": "code",
   "execution_count": 1,
   "id": "53cf436e",
   "metadata": {},
   "outputs": [],
   "source": [
    "from util import star"
   ]
  },
  {
   "cell_type": "code",
   "execution_count": 2,
   "id": "6d426389",
   "metadata": {},
   "outputs": [
    {
     "data": {
      "text/plain": [
       "['서울특별시 노원구 월계동 633-31(104,105,106호)',\n",
       " '서울특별시 노원구 월계동 333-1 월계이마트',\n",
       " '서울특별시 노원구 상계동 372-16',\n",
       " '서울특별시 노원구 공릉동 597-34, 597-30, 597-31, 597-32, 597-33',\n",
       " '서울특별시 노원구 상계동 694 임광아파트',\n",
       " '서울특별시 노원구 공릉동 379-27',\n",
       " '서울특별시 노원구 중계동 360-6중흥빌딩 103,203호',\n",
       " '서울특별시 노원구 상계동 723번지 ㈜KT 노원사옥',\n",
       " '서울특별시 노원구 월계동 410-1번지',\n",
       " '서울특별시 노원구 상계동 763-3 대한빌딩',\n",
       " '서울특별시 노원구 상계동 712 남성빌딩 1층',\n",
       " '서울특별시 노원구 월계동 333-1번지',\n",
       " '서울특별시 노원구 공릉동 653-8']"
      ]
     },
     "execution_count": 2,
     "metadata": {},
     "output_type": "execute_result"
    }
   ],
   "source": [
    "star.search_star(\"노원구\")"
   ]
  },
  {
   "cell_type": "code",
   "execution_count": 3,
   "id": "e5616c6c",
   "metadata": {},
   "outputs": [],
   "source": [
    "from bs4 import BeautifulSoup"
   ]
  },
  {
   "cell_type": "code",
   "execution_count": 4,
   "id": "9e72875f",
   "metadata": {},
   "outputs": [],
   "source": [
    "# 불러온 라이브러리 보다 새로 정의한 함수가 우선순위 높음\n",
    "def BeautifulSoup():\n",
    "    print (\"아름다운 스프\")"
   ]
  },
  {
   "cell_type": "code",
   "execution_count": 5,
   "id": "2f250fda",
   "metadata": {},
   "outputs": [
    {
     "name": "stdout",
     "output_type": "stream",
     "text": [
      "아름다운 스프\n"
     ]
    }
   ],
   "source": [
    "BeautifulSoup()"
   ]
  },
  {
   "cell_type": "code",
   "execution_count": 6,
   "id": "80d1c3e3",
   "metadata": {},
   "outputs": [],
   "source": [
    "# 별칭 부여\n",
    "from bs4 import BeautifulSoup as BS"
   ]
  },
  {
   "cell_type": "code",
   "execution_count": 7,
   "id": "acbe106c",
   "metadata": {},
   "outputs": [
    {
     "data": {
      "text/plain": [
       "bs4.BeautifulSoup"
      ]
     },
     "execution_count": 7,
     "metadata": {},
     "output_type": "execute_result"
    }
   ],
   "source": [
    "BS"
   ]
  },
  {
   "cell_type": "code",
   "execution_count": 8,
   "id": "200c1dbc",
   "metadata": {},
   "outputs": [
    {
     "ename": "NameError",
     "evalue": "name 'bs' is not defined",
     "output_type": "error",
     "traceback": [
      "\u001b[1;31m---------------------------------------------------------------------------\u001b[0m",
      "\u001b[1;31mNameError\u001b[0m                                 Traceback (most recent call last)",
      "\u001b[1;32mC:\\Users\\MINKI_~1\\AppData\\Local\\Temp/ipykernel_600/3074790909.py\u001b[0m in \u001b[0;36m<module>\u001b[1;34m\u001b[0m\n\u001b[0;32m      1\u001b[0m \u001b[1;31m# 대소문자 구분\u001b[0m\u001b[1;33m\u001b[0m\u001b[1;33m\u001b[0m\u001b[0m\n\u001b[1;32m----> 2\u001b[1;33m \u001b[0mbs\u001b[0m\u001b[1;33m\u001b[0m\u001b[1;33m\u001b[0m\u001b[0m\n\u001b[0m",
      "\u001b[1;31mNameError\u001b[0m: name 'bs' is not defined"
     ]
    }
   ],
   "source": [
    "# 대소문자 구분\n",
    "bs"
   ]
  },
  {
   "cell_type": "code",
   "execution_count": null,
   "id": "0904a99f",
   "metadata": {},
   "outputs": [],
   "source": [
    "# 파일을 직접 실행할 경우 __main__ 출력\n",
    "# 외부에서 파일을 불러올 경우 파일의 이름 출력\n",
    "__name__"
   ]
  },
  {
   "cell_type": "markdown",
   "id": "ff10657b",
   "metadata": {},
   "source": [
    "## Python Standard Module"
   ]
  },
  {
   "cell_type": "markdown",
   "id": "f787cafc",
   "metadata": {},
   "source": [
    "### 시계열 데이터\n",
    "- 시간 개념이 포함된 데이터\n",
    "- 주식, 코인, 온도, 코로나 확진자수, ...."
   ]
  },
  {
   "cell_type": "code",
   "execution_count": 9,
   "id": "beb34dba",
   "metadata": {},
   "outputs": [
    {
     "data": {
      "text/plain": [
       "'2022-04-06'"
      ]
     },
     "execution_count": 9,
     "metadata": {},
     "output_type": "execute_result"
    }
   ],
   "source": [
    "\"2022-04-06\""
   ]
  },
  {
   "cell_type": "code",
   "execution_count": 10,
   "id": "b42a05e7",
   "metadata": {},
   "outputs": [],
   "source": [
    "from datetime import date, datetime, timedelta"
   ]
  },
  {
   "cell_type": "code",
   "execution_count": 11,
   "id": "32206b6b",
   "metadata": {},
   "outputs": [
    {
     "data": {
      "text/plain": [
       "datetime.date(2022, 4, 6)"
      ]
     },
     "execution_count": 11,
     "metadata": {},
     "output_type": "execute_result"
    }
   ],
   "source": [
    "# 현재 실행중인 컴퓨터 시스템의 시간\n",
    "date.today()"
   ]
  },
  {
   "cell_type": "code",
   "execution_count": 12,
   "id": "f9dad4e7",
   "metadata": {},
   "outputs": [
    {
     "data": {
      "text/plain": [
       "datetime.datetime(2022, 4, 6, 11, 7, 19, 448773)"
      ]
     },
     "execution_count": 12,
     "metadata": {},
     "output_type": "execute_result"
    }
   ],
   "source": [
    "# 현재시각 ms 까지\n",
    "datetime.now()"
   ]
  },
  {
   "cell_type": "code",
   "execution_count": 13,
   "id": "da2531db",
   "metadata": {},
   "outputs": [
    {
     "data": {
      "text/plain": [
       "datetime.date(2022, 7, 15)"
      ]
     },
     "execution_count": 13,
     "metadata": {},
     "output_type": "execute_result"
    }
   ],
   "source": [
    "# 현재 날짜 + 100일 후의 데이터 \n",
    "date.today() + timedelta(days=100)"
   ]
  },
  {
   "cell_type": "code",
   "execution_count": 14,
   "id": "7e5cee88",
   "metadata": {},
   "outputs": [
    {
     "data": {
      "text/plain": [
       "'2022-04-06'"
      ]
     },
     "execution_count": 14,
     "metadata": {},
     "output_type": "execute_result"
    }
   ],
   "source": [
    "today = date.today()\n",
    "str(today)"
   ]
  },
  {
   "cell_type": "code",
   "execution_count": 15,
   "id": "d384592a",
   "metadata": {},
   "outputs": [
    {
     "data": {
      "text/plain": [
       "'2022/04/06'"
      ]
     },
     "execution_count": 15,
     "metadata": {},
     "output_type": "execute_result"
    }
   ],
   "source": [
    "# 날짜 포맷 변경 \n",
    "# Y -> 2022, y -> 22\n",
    "today.strftime(\"%Y/%m/%d\")"
   ]
  },
  {
   "cell_type": "code",
   "execution_count": 16,
   "id": "75e5313d",
   "metadata": {},
   "outputs": [
    {
     "data": {
      "text/plain": [
       "'2022-04-06 11:07:20.053771'"
      ]
     },
     "execution_count": 16,
     "metadata": {},
     "output_type": "execute_result"
    }
   ],
   "source": [
    "now = datetime.now()\n",
    "str(now)"
   ]
  },
  {
   "cell_type": "code",
   "execution_count": 17,
   "id": "9150cdd6",
   "metadata": {},
   "outputs": [
    {
     "data": {
      "text/plain": [
       "'2022-04-06 11:07:20'"
      ]
     },
     "execution_count": 17,
     "metadata": {},
     "output_type": "execute_result"
    }
   ],
   "source": [
    "now.strftime(\"%Y-%m-%d %H:%M:%S\")"
   ]
  },
  {
   "cell_type": "code",
   "execution_count": 18,
   "id": "4d6b3fdc",
   "metadata": {},
   "outputs": [
    {
     "data": {
      "text/plain": [
       "datetime.datetime(2022, 4, 1, 0, 0)"
      ]
     },
     "execution_count": 18,
     "metadata": {},
     "output_type": "execute_result"
    }
   ],
   "source": [
    "rt = datetime.strptime(\"2022-04-01\", \"%Y-%m-%d\")\n",
    "rt"
   ]
  },
  {
   "cell_type": "code",
   "execution_count": 19,
   "id": "ff0885d6",
   "metadata": {},
   "outputs": [
    {
     "name": "stdout",
     "output_type": "stream",
     "text": [
      "2022/04/01  ->  4\n",
      "2022/04/02  ->  5\n",
      "2022/04/03  ->  6\n",
      "2022/04/04  ->  0\n",
      "2022/04/05  ->  1\n",
      "2022/04/06  ->  2\n",
      "2022/04/07  ->  3\n"
     ]
    }
   ],
   "source": [
    "for x in range(1, 8):\n",
    "    rt = datetime.strptime(\"2022/04/0{}\".format(x), \"%Y/%m/%d\")\n",
    "    print(\"2022/04/0{}\".format(x), \" -> \", rt.weekday())"
   ]
  },
  {
   "cell_type": "code",
   "execution_count": 20,
   "id": "e61ee46b",
   "metadata": {},
   "outputs": [
    {
     "data": {
      "text/plain": [
       "3"
      ]
     },
     "execution_count": 20,
     "metadata": {},
     "output_type": "execute_result"
    }
   ],
   "source": [
    "rt.weekday()"
   ]
  },
  {
   "cell_type": "markdown",
   "id": "a949f8b4",
   "metadata": {},
   "source": [
    "# 스타벅스가 가장 많이 오픈한 요일 출력"
   ]
  },
  {
   "cell_type": "code",
   "execution_count": 25,
   "id": "70ac8e40",
   "metadata": {},
   "outputs": [],
   "source": [
    "rt_dict = star.starbucks()"
   ]
  },
  {
   "cell_type": "markdown",
   "id": "94cb3e9d",
   "metadata": {},
   "source": [
    "### 딕셔너리 활용"
   ]
  },
  {
   "cell_type": "code",
   "execution_count": 34,
   "id": "86766d48",
   "metadata": {},
   "outputs": [],
   "source": [
    "day = dict()\n",
    "\n",
    "for x in rt_dict['list']:\n",
    "    if datetime.strptime(x['open_dt'], \"%Y%m%d\").weekday() in day:\n",
    "        day[datetime.strptime(x['open_dt'], \"%Y%m%d\").weekday()] += 1\n",
    "    else:\n",
    "        day[datetime.strptime(x['open_dt'], \"%Y%m%d\").weekday()] = 1"
   ]
  },
  {
   "cell_type": "code",
   "execution_count": null,
   "id": "0cbd5128",
   "metadata": {},
   "outputs": [],
   "source": [
    "day = dict()\n",
    "\n",
    "for x in rt_dict['list']:\n",
    "    if datetime.strptime(x['open_dt'], \"%Y%m%d\").weekday() in day:\n",
    "        day[datetime.strptime(x['open_dt'], \"%Y%m%d\").weekday()] += 1\n",
    "    else:\n",
    "        day[datetime.strptime(x['open_dt'], \"%Y%m%d\").weekday()] = 1"
   ]
  },
  {
   "cell_type": "code",
   "execution_count": 42,
   "id": "e7646d78",
   "metadata": {},
   "outputs": [
    {
     "data": {
      "text/plain": [
       "{3: 149, 4: 132, 1: 124, 2: 113, 0: 48, 5: 6, 6: 2}"
      ]
     },
     "execution_count": 42,
     "metadata": {},
     "output_type": "execute_result"
    }
   ],
   "source": [
    "day = dict(sorted(day.items(), key=lambda x:x[1], reverse=True))\n",
    "day[]"
   ]
  },
  {
   "cell_type": "code",
   "execution_count": null,
   "id": "03ae9bc3",
   "metadata": {},
   "outputs": [],
   "source": []
  },
  {
   "cell_type": "code",
   "execution_count": 47,
   "id": "0efb5b72",
   "metadata": {},
   "outputs": [
    {
     "name": "stdout",
     "output_type": "stream",
     "text": [
      "월 -> 48\n",
      "화 -> 124\n",
      "수 -> 113\n",
      "목 -> 149\n",
      "금 -> 132\n",
      "토 -> 6\n",
      "일 -> 2\n"
     ]
    }
   ],
   "source": [
    "rt = [datetime.strptime(x['open_dt'], \"%Y%m%d\").weekday() for x in rt_dict['list']]\n",
    "    \n",
    "for date_, x in zip(\"월화수목금토일\", range(7)):\n",
    "    print(date_,\"->\", rt.count(x))"
   ]
  },
  {
   "cell_type": "code",
   "execution_count": 48,
   "id": "2e6f263c",
   "metadata": {},
   "outputs": [
    {
     "name": "stdout",
     "output_type": "stream",
     "text": [
      "0 월\n",
      "1 화\n",
      "2 수\n",
      "3 목\n",
      "4 금\n",
      "5 토\n",
      "6 일\n"
     ]
    }
   ],
   "source": [
    "for x, y in zip(range(7), \"월화수목금토일\"):\n",
    "    print(x, y)"
   ]
  },
  {
   "cell_type": "code",
   "execution_count": 49,
   "id": "a753f83a",
   "metadata": {},
   "outputs": [
    {
     "data": {
      "text/plain": [
       "{0: '월', 1: '화', 2: '수', 3: '목', 4: '금', 5: '토', 6: '일'}"
      ]
     },
     "execution_count": 49,
     "metadata": {},
     "output_type": "execute_result"
    }
   ],
   "source": [
    "dict(zip(range(7), \"월화수목금토일\"))"
   ]
  },
  {
   "cell_type": "markdown",
   "id": "a3a8e9ff",
   "metadata": {},
   "source": [
    "# 전국 스타벅스"
   ]
  },
  {
   "cell_type": "code",
   "execution_count": 55,
   "id": "5dc68867",
   "metadata": {},
   "outputs": [],
   "source": [
    "url = \"https://www.starbucks.co.kr/store/getSidoList.do\"\n",
    "r = requests.post(url)"
   ]
  },
  {
   "cell_type": "code",
   "execution_count": 58,
   "id": "2e513b46",
   "metadata": {},
   "outputs": [
    {
     "data": {
      "text/plain": [
       "['01',\n",
       " '08',\n",
       " '02',\n",
       " '03',\n",
       " '04',\n",
       " '05',\n",
       " '06',\n",
       " '07',\n",
       " '09',\n",
       " '10',\n",
       " '11',\n",
       " '12',\n",
       " '13',\n",
       " '14',\n",
       " '15',\n",
       " '16',\n",
       " '17']"
      ]
     },
     "execution_count": 58,
     "metadata": {},
     "output_type": "execute_result"
    }
   ],
   "source": [
    "[x['sido_cd'] for x in r.json()['list']]"
   ]
  },
  {
   "cell_type": "code",
   "execution_count": 60,
   "id": "4cbd2620",
   "metadata": {},
   "outputs": [],
   "source": [
    "url= 'https://www.starbucks.co.kr/store/getStore.do?r=804IUG79N7'\n",
    "payload = {\n",
    "        'in_biz_cds' : '0',\n",
    "        'in_scodes' : '0',\n",
    "        'ins_lat' : '37.5627128',\n",
    "        'ins_lng' : '126.93279869999999',\n",
    "        'search_text' : '',\n",
    "        'p_sido_cd' : '01',\n",
    "        'p_gugun_cd' : '',\n",
    "        'in_distance' : '0',\n",
    "        'in_biz_cd' : '',\n",
    "        'isError' : 'true',\n",
    "        'searchType' : 'C',\n",
    "        'set_date' : '',\n",
    "        'all_store' : '0',\n",
    "        'T03' : '0',\n",
    "        'T01' : '0',\n",
    "        'T12' : '0',\n",
    "        'T09' : '0',\n",
    "        'T30' : '0',\n",
    "        'T05' : '0',\n",
    "        'T22' : '0',\n",
    "        'T21' : '0',\n",
    "        'T10' : '0',\n",
    "        'T36' : '0',\n",
    "        'P10' : '0',\n",
    "        'P50' : '0',\n",
    "        'P20' : '0',\n",
    "        'P60' : '0',\n",
    "        'P30' : '0',\n",
    "        'P70' : '0',\n",
    "        'P40' : '0',\n",
    "        'P80' : '0',\n",
    "        'whcroad_yn' : '0',\n",
    "        'P90' : '0',\n",
    "        'new_bool' : '0',\n",
    "        'iend' : '1000',\n",
    "        'rndCod' : 'V8UNZFKU44',}\n",
    "\n",
    "final = []\n",
    "for x in r.json()['list']:\n",
    "    payload['p_sido_cd'] = x['sido_cd']\n",
    "    r2 = requests.post(url, data=payload)\n",
    "    final.extend(r2.json()['list'])"
   ]
  },
  {
   "cell_type": "code",
   "execution_count": 61,
   "id": "e5d81c8f",
   "metadata": {},
   "outputs": [
    {
     "data": {
      "text/plain": [
       "1673"
      ]
     },
     "execution_count": 61,
     "metadata": {},
     "output_type": "execute_result"
    }
   ],
   "source": [
    "len(final)"
   ]
  },
  {
   "cell_type": "markdown",
   "id": "41bf2d6b",
   "metadata": {},
   "source": [
    "# 전국 스타벅스R 매장 개수 "
   ]
  },
  {
   "cell_type": "code",
   "execution_count": 74,
   "id": "d270a7c7",
   "metadata": {},
   "outputs": [
    {
     "data": {
      "text/plain": [
       "73"
      ]
     },
     "execution_count": 74,
     "metadata": {},
     "output_type": "execute_result"
    }
   ],
   "source": [
    "starbucks_r = [x['s_name'] for x in final if x['s_name'][-1] == \"R\"]\n",
    "\n",
    "len(starbucks_r)"
   ]
  },
  {
   "cell_type": "code",
   "execution_count": 76,
   "id": "844c81e0",
   "metadata": {},
   "outputs": [
    {
     "data": {
      "text/plain": [
       "344"
      ]
     },
     "execution_count": 76,
     "metadata": {},
     "output_type": "execute_result"
    }
   ],
   "source": [
    "# 전국 DT매장 개수\n",
    "starbucks_dt = [x['s_name'] for x in final if x['s_name'][-2:] == \"DT\"]\n",
    "len(starbucks_dt)"
   ]
  },
  {
   "cell_type": "code",
   "execution_count": 77,
   "id": "92cf1c54",
   "metadata": {},
   "outputs": [],
   "source": [
    "import pickle"
   ]
  },
  {
   "cell_type": "code",
   "execution_count": 78,
   "id": "ca320dfe",
   "metadata": {},
   "outputs": [],
   "source": [
    "with open('./starbucks.pkl', \"wb\") as f:\n",
    "    pickle.dump(final, f)"
   ]
  },
  {
   "cell_type": "code",
   "execution_count": 79,
   "id": "b9378fda",
   "metadata": {},
   "outputs": [],
   "source": [
    "with open(\"./starbucks.pkl\", \"rb\") as f:\n",
    "    final2 = pickle.load(f)"
   ]
  },
  {
   "cell_type": "code",
   "execution_count": null,
   "id": "8a38a182",
   "metadata": {},
   "outputs": [],
   "source": []
  },
  {
   "cell_type": "code",
   "execution_count": null,
   "id": "49f3ae44",
   "metadata": {},
   "outputs": [],
   "source": []
  }
 ],
 "metadata": {
  "kernelspec": {
   "display_name": "Python 3 (ipykernel)",
   "language": "python",
   "name": "python3"
  },
  "language_info": {
   "codemirror_mode": {
    "name": "ipython",
    "version": 3
   },
   "file_extension": ".py",
   "mimetype": "text/x-python",
   "name": "python",
   "nbconvert_exporter": "python",
   "pygments_lexer": "ipython3",
   "version": "3.9.7"
  }
 },
 "nbformat": 4,
 "nbformat_minor": 5
}
